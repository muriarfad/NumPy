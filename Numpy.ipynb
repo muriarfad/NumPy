{
 "cells": [
  {
   "cell_type": "markdown",
   "id": "1d4b7cff",
   "metadata": {},
   "source": [
    "# Numpy (Numerical Python)"
   ]
  },
  {
   "cell_type": "markdown",
   "id": "888e2fab",
   "metadata": {
    "jp-MarkdownHeadingCollapsed": true
   },
   "source": [
    "## Install Numpy"
   ]
  },
  {
   "cell_type": "code",
   "execution_count": 1,
   "id": "e4631a16",
   "metadata": {},
   "outputs": [
    {
     "name": "stdout",
     "output_type": "stream",
     "text": [
      "Requirement already satisfied: numpy in /home/kibo/.local/lib/python3.8/site-packages (1.24.3)\n"
     ]
    }
   ],
   "source": [
    "!pip install numpy"
   ]
  },
  {
   "cell_type": "markdown",
   "id": "8940192b",
   "metadata": {},
   "source": [
    "## Importing Numpy"
   ]
  },
  {
   "cell_type": "code",
   "execution_count": 2,
   "id": "c5f8ce8a",
   "metadata": {},
   "outputs": [],
   "source": [
    "import numpy as np"
   ]
  },
  {
   "cell_type": "markdown",
   "id": "670e8310",
   "metadata": {
    "jp-MarkdownHeadingCollapsed": true
   },
   "source": [
    "## Using Numpy"
   ]
  },
  {
   "cell_type": "code",
   "execution_count": 3,
   "id": "3de15fda",
   "metadata": {},
   "outputs": [],
   "source": [
    "#creating a vector.\n",
    "vector = np.array([3,2,1])"
   ]
  },
  {
   "cell_type": "code",
   "execution_count": 4,
   "id": "191192f5",
   "metadata": {},
   "outputs": [
    {
     "data": {
      "text/plain": [
       "array([3, 2, 1])"
      ]
     },
     "execution_count": 4,
     "metadata": {},
     "output_type": "execute_result"
    }
   ],
   "source": [
    "vector"
   ]
  },
  {
   "cell_type": "code",
   "execution_count": 5,
   "id": "2e1181c0",
   "metadata": {},
   "outputs": [],
   "source": [
    "#creating a matrix\n",
    "matrix = np.array([[1,2,3],[4,5,6]])"
   ]
  },
  {
   "cell_type": "code",
   "execution_count": 6,
   "id": "fd23a891",
   "metadata": {},
   "outputs": [
    {
     "data": {
      "text/plain": [
       "array([[1, 2, 3],\n",
       "       [4, 5, 6]])"
      ]
     },
     "execution_count": 6,
     "metadata": {},
     "output_type": "execute_result"
    }
   ],
   "source": [
    "matrix"
   ]
  },
  {
   "cell_type": "code",
   "execution_count": 7,
   "id": "b9cfb774",
   "metadata": {
    "scrolled": true
   },
   "outputs": [
    {
     "data": {
      "text/plain": [
       "array([[[ 1,  2],\n",
       "        [ 3,  4]],\n",
       "\n",
       "       [[ 5,  6],\n",
       "        [ 7,  8]],\n",
       "\n",
       "       [[ 9, 10],\n",
       "        [11, 12]]])"
      ]
     },
     "execution_count": 7,
     "metadata": {},
     "output_type": "execute_result"
    }
   ],
   "source": [
    "#Creating a tensor\n",
    "tensor = np.array([[[1,2],[3,4]],\n",
    "                   [[5,6],[7,8]],\n",
    "                   [[9,10],[11,12]]])\n",
    "tensor"
   ]
  },
  {
   "cell_type": "code",
   "execution_count": 8,
   "id": "e6de6134",
   "metadata": {},
   "outputs": [
    {
     "name": "stdout",
     "output_type": "stream",
     "text": [
      "Variable   Type       Data/Info\n",
      "-------------------------------\n",
      "matrix     ndarray    2x3: 6 elems, type `int64`, 48 bytes\n",
      "np         module     <module 'numpy' from '/ho<...>kages/numpy/__init__.py'>\n",
      "tensor     ndarray    3x2x2: 12 elems, type `int64`, 96 bytes\n",
      "vector     ndarray    3: 3 elems, type `int64`, 24 bytes\n"
     ]
    }
   ],
   "source": [
    "%whos"
   ]
  },
  {
   "cell_type": "markdown",
   "id": "4aa739ea",
   "metadata": {
    "jp-MarkdownHeadingCollapsed": true
   },
   "source": [
    "## ndarray\n",
    "n = natural <br>\n",
    "d = dimensions <br>\n",
    "array = array <br>"
   ]
  },
  {
   "cell_type": "code",
   "execution_count": 9,
   "id": "dbd0c858",
   "metadata": {},
   "outputs": [
    {
     "data": {
      "text/plain": [
       "array([1, 2, 3])"
      ]
     },
     "execution_count": 9,
     "metadata": {},
     "output_type": "execute_result"
    }
   ],
   "source": [
    "#1D-Array or Vector\n",
    "oneD = np.array([1,2,3])\n",
    "oneD"
   ]
  },
  {
   "cell_type": "code",
   "execution_count": 10,
   "id": "d0515006",
   "metadata": {},
   "outputs": [
    {
     "data": {
      "text/plain": [
       "numpy.ndarray"
      ]
     },
     "execution_count": 10,
     "metadata": {},
     "output_type": "execute_result"
    }
   ],
   "source": [
    "type(oneD)"
   ]
  },
  {
   "cell_type": "code",
   "execution_count": 11,
   "id": "126b7038",
   "metadata": {},
   "outputs": [
    {
     "data": {
      "text/plain": [
       "(3,)"
      ]
     },
     "execution_count": 11,
     "metadata": {},
     "output_type": "execute_result"
    }
   ],
   "source": [
    "oneD.shape"
   ]
  },
  {
   "cell_type": "code",
   "execution_count": 12,
   "id": "8d39fcfb",
   "metadata": {},
   "outputs": [
    {
     "data": {
      "text/plain": [
       "array([[1, 2, 3],\n",
       "       [4, 5, 6]])"
      ]
     },
     "execution_count": 12,
     "metadata": {},
     "output_type": "execute_result"
    }
   ],
   "source": [
    "#2D-Array or Matrix\n",
    "twoD = np.array([[1,2,3],[4,5,6]])\n",
    "twoD"
   ]
  },
  {
   "cell_type": "code",
   "execution_count": 13,
   "id": "4298b7ee",
   "metadata": {},
   "outputs": [
    {
     "data": {
      "text/plain": [
       "numpy.ndarray"
      ]
     },
     "execution_count": 13,
     "metadata": {},
     "output_type": "execute_result"
    }
   ],
   "source": [
    "type(twoD)"
   ]
  },
  {
   "cell_type": "code",
   "execution_count": 14,
   "id": "31469043",
   "metadata": {},
   "outputs": [
    {
     "data": {
      "text/plain": [
       "(2, 3)"
      ]
     },
     "execution_count": 14,
     "metadata": {},
     "output_type": "execute_result"
    }
   ],
   "source": [
    "twoD.shape"
   ]
  },
  {
   "cell_type": "code",
   "execution_count": 15,
   "id": "d19bdaed",
   "metadata": {},
   "outputs": [
    {
     "data": {
      "text/plain": [
       "array([[[1, 2, 3]],\n",
       "\n",
       "       [[4, 5, 6]],\n",
       "\n",
       "       [[7, 8, 9]]])"
      ]
     },
     "execution_count": 15,
     "metadata": {},
     "output_type": "execute_result"
    }
   ],
   "source": [
    "#3D-Array or Tensor\n",
    "threeD = np.array([[[1,2,3]],\n",
    "                   [[4,5,6]],\n",
    "                   [[7,8,9]]])\n",
    "threeD"
   ]
  },
  {
   "cell_type": "code",
   "execution_count": 16,
   "id": "c92a925d",
   "metadata": {},
   "outputs": [
    {
     "data": {
      "text/plain": [
       "numpy.ndarray"
      ]
     },
     "execution_count": 16,
     "metadata": {},
     "output_type": "execute_result"
    }
   ],
   "source": [
    "type(threeD)"
   ]
  },
  {
   "cell_type": "code",
   "execution_count": 17,
   "id": "5934f7ef",
   "metadata": {},
   "outputs": [
    {
     "data": {
      "text/plain": [
       "(3, 1, 3)"
      ]
     },
     "execution_count": 17,
     "metadata": {},
     "output_type": "execute_result"
    }
   ],
   "source": [
    "threeD.shape"
   ]
  },
  {
   "cell_type": "markdown",
   "id": "7b5d40cb",
   "metadata": {},
   "source": [
    "### Array vs List"
   ]
  },
  {
   "cell_type": "code",
   "execution_count": 18,
   "id": "9f3d0e32",
   "metadata": {},
   "outputs": [
    {
     "data": {
      "text/plain": [
       "[[1, 2, 3], [4, 5, 6]]"
      ]
     },
     "execution_count": 18,
     "metadata": {},
     "output_type": "execute_result"
    }
   ],
   "source": [
    "ml = [[1,2,3],[4,5,6]]\n",
    "ml"
   ]
  },
  {
   "cell_type": "code",
   "execution_count": 19,
   "id": "930f2be6",
   "metadata": {},
   "outputs": [
    {
     "data": {
      "text/plain": [
       "array([[1, 2, 3],\n",
       "       [3, 4, 5]])"
      ]
     },
     "execution_count": 19,
     "metadata": {},
     "output_type": "execute_result"
    }
   ],
   "source": [
    "ma = np.array([[1,2,3],[3,4,5]])\n",
    "ma"
   ]
  },
  {
   "cell_type": "code",
   "execution_count": 20,
   "id": "f05b8cca",
   "metadata": {},
   "outputs": [
    {
     "data": {
      "text/plain": [
       "(2, (2, 3))"
      ]
     },
     "execution_count": 20,
     "metadata": {},
     "output_type": "execute_result"
    }
   ],
   "source": [
    "len(ml),ma.shape"
   ]
  },
  {
   "cell_type": "code",
   "execution_count": 21,
   "id": "d7bb05e2",
   "metadata": {},
   "outputs": [
    {
     "data": {
      "text/plain": [
       "([1, 2, 3, 4, 5, 6], array([5, 7, 9]))"
      ]
     },
     "execution_count": 21,
     "metadata": {},
     "output_type": "execute_result"
    }
   ],
   "source": [
    "mlt = ml[0] + ml[1]\n",
    "mat = ma[0] + ml[1]\n",
    "mlt,mat"
   ]
  },
  {
   "cell_type": "markdown",
   "id": "d275a68c",
   "metadata": {
    "jp-MarkdownHeadingCollapsed": true
   },
   "source": [
    "## Indexing"
   ]
  },
  {
   "cell_type": "markdown",
   "id": "358cabba",
   "metadata": {},
   "source": [
    "### Declaring Array"
   ]
  },
  {
   "cell_type": "code",
   "execution_count": 22,
   "id": "db8c10a4",
   "metadata": {},
   "outputs": [
    {
     "data": {
      "text/plain": [
       "array([[1, 2, 3],\n",
       "       [4, 5, 6]])"
      ]
     },
     "execution_count": 22,
     "metadata": {},
     "output_type": "execute_result"
    }
   ],
   "source": [
    "array = np.array([[1,2,3],[4,5,6]])\n",
    "array"
   ]
  },
  {
   "cell_type": "markdown",
   "id": "c77285ad",
   "metadata": {},
   "source": [
    "### Specific Values"
   ]
  },
  {
   "cell_type": "code",
   "execution_count": 23,
   "id": "531333f8",
   "metadata": {},
   "outputs": [
    {
     "data": {
      "text/plain": [
       "array([1, 2, 3])"
      ]
     },
     "execution_count": 23,
     "metadata": {},
     "output_type": "execute_result"
    }
   ],
   "source": [
    "array[0]"
   ]
  },
  {
   "cell_type": "code",
   "execution_count": 24,
   "id": "dbd11098",
   "metadata": {},
   "outputs": [
    {
     "data": {
      "text/plain": [
       "array([4, 5, 6])"
      ]
     },
     "execution_count": 24,
     "metadata": {},
     "output_type": "execute_result"
    }
   ],
   "source": [
    "array[1]"
   ]
  },
  {
   "cell_type": "code",
   "execution_count": 25,
   "id": "a3020375",
   "metadata": {},
   "outputs": [
    {
     "data": {
      "text/plain": [
       "1"
      ]
     },
     "execution_count": 25,
     "metadata": {},
     "output_type": "execute_result"
    }
   ],
   "source": [
    "array[0][0]"
   ]
  },
  {
   "cell_type": "code",
   "execution_count": 26,
   "id": "ec52c23b",
   "metadata": {},
   "outputs": [
    {
     "data": {
      "text/plain": [
       "2"
      ]
     },
     "execution_count": 26,
     "metadata": {},
     "output_type": "execute_result"
    }
   ],
   "source": [
    "array[0][1]"
   ]
  },
  {
   "cell_type": "code",
   "execution_count": 27,
   "id": "ed9dcd90",
   "metadata": {},
   "outputs": [
    {
     "data": {
      "text/plain": [
       "5"
      ]
     },
     "execution_count": 27,
     "metadata": {},
     "output_type": "execute_result"
    }
   ],
   "source": [
    "array[1][1]"
   ]
  },
  {
   "cell_type": "code",
   "execution_count": 28,
   "id": "023cdada",
   "metadata": {},
   "outputs": [
    {
     "data": {
      "text/plain": [
       "4"
      ]
     },
     "execution_count": 28,
     "metadata": {},
     "output_type": "execute_result"
    }
   ],
   "source": [
    "array[1,0]"
   ]
  },
  {
   "cell_type": "code",
   "execution_count": 29,
   "id": "434f9567",
   "metadata": {},
   "outputs": [
    {
     "data": {
      "text/plain": [
       "6"
      ]
     },
     "execution_count": 29,
     "metadata": {},
     "output_type": "execute_result"
    }
   ],
   "source": [
    "array[1,2]"
   ]
  },
  {
   "cell_type": "code",
   "execution_count": 30,
   "id": "5f938ce9",
   "metadata": {},
   "outputs": [
    {
     "data": {
      "text/plain": [
       "array([2, 5])"
      ]
     },
     "execution_count": 30,
     "metadata": {},
     "output_type": "execute_result"
    }
   ],
   "source": [
    "#Interval Index\n",
    "array[:,1]"
   ]
  },
  {
   "cell_type": "markdown",
   "id": "4f471f91",
   "metadata": {},
   "source": [
    "### Negative indeces"
   ]
  },
  {
   "cell_type": "code",
   "execution_count": 31,
   "id": "70eacdab",
   "metadata": {},
   "outputs": [
    {
     "data": {
      "text/plain": [
       "array([1, 2, 3, 4, 5])"
      ]
     },
     "execution_count": 31,
     "metadata": {},
     "output_type": "execute_result"
    }
   ],
   "source": [
    "arrayb = np.array([1,2,3,4,5])\n",
    "arrayb"
   ]
  },
  {
   "cell_type": "code",
   "execution_count": 32,
   "id": "b3e457ed",
   "metadata": {},
   "outputs": [
    {
     "data": {
      "text/plain": [
       "5"
      ]
     },
     "execution_count": 32,
     "metadata": {},
     "output_type": "execute_result"
    }
   ],
   "source": [
    "arrayb[-1]"
   ]
  },
  {
   "cell_type": "code",
   "execution_count": 33,
   "id": "2098387f",
   "metadata": {},
   "outputs": [
    {
     "data": {
      "text/plain": [
       "1"
      ]
     },
     "execution_count": 33,
     "metadata": {},
     "output_type": "execute_result"
    }
   ],
   "source": [
    "arrayb[-5]"
   ]
  },
  {
   "cell_type": "markdown",
   "id": "50be4651",
   "metadata": {},
   "source": [
    "### Reverse the values\n"
   ]
  },
  {
   "cell_type": "code",
   "execution_count": 34,
   "id": "b52b2ef7",
   "metadata": {},
   "outputs": [
    {
     "data": {
      "text/plain": [
       "array([5, 4, 3, 2, 1])"
      ]
     },
     "execution_count": 34,
     "metadata": {},
     "output_type": "execute_result"
    }
   ],
   "source": [
    "arrayb[::-1]"
   ]
  },
  {
   "cell_type": "markdown",
   "id": "10d00615",
   "metadata": {},
   "source": [
    "### Assigning Values"
   ]
  },
  {
   "cell_type": "code",
   "execution_count": 35,
   "id": "5beb52de",
   "metadata": {},
   "outputs": [
    {
     "data": {
      "text/plain": [
       "array([[1, 2, 3],\n",
       "       [4, 5, 6]])"
      ]
     },
     "execution_count": 35,
     "metadata": {},
     "output_type": "execute_result"
    }
   ],
   "source": [
    "arc = np.array([[1,2,3],[4,5,6]])\n",
    "arc"
   ]
  },
  {
   "cell_type": "code",
   "execution_count": 36,
   "id": "d354081d",
   "metadata": {},
   "outputs": [
    {
     "data": {
      "text/plain": [
       "array([[1, 3, 3],\n",
       "       [4, 5, 6]])"
      ]
     },
     "execution_count": 36,
     "metadata": {},
     "output_type": "execute_result"
    }
   ],
   "source": [
    "arc[0,1] = 3\n",
    "arc"
   ]
  },
  {
   "cell_type": "code",
   "execution_count": 37,
   "id": "89653cfc",
   "metadata": {},
   "outputs": [
    {
     "data": {
      "text/plain": [
       "array([[0, 0, 0],\n",
       "       [4, 5, 6]])"
      ]
     },
     "execution_count": 37,
     "metadata": {},
     "output_type": "execute_result"
    }
   ],
   "source": [
    "arc[0]= 0\n",
    "arc"
   ]
  },
  {
   "cell_type": "code",
   "execution_count": 38,
   "id": "d5f57c2b",
   "metadata": {},
   "outputs": [
    {
     "data": {
      "text/plain": [
       "array([[1, 0, 0],\n",
       "       [1, 5, 6]])"
      ]
     },
     "execution_count": 38,
     "metadata": {},
     "output_type": "execute_result"
    }
   ],
   "source": [
    "arc[:,0]=1\n",
    "arc"
   ]
  },
  {
   "cell_type": "code",
   "execution_count": 39,
   "id": "720b6c24",
   "metadata": {},
   "outputs": [
    {
     "data": {
      "text/plain": [
       "array([[4, 5, 6],\n",
       "       [1, 5, 6]])"
      ]
     },
     "execution_count": 39,
     "metadata": {},
     "output_type": "execute_result"
    }
   ],
   "source": [
    "lista = [4,5,6]\n",
    "arc[0] = lista\n",
    "arc"
   ]
  },
  {
   "cell_type": "code",
   "execution_count": 40,
   "id": "d8381562",
   "metadata": {},
   "outputs": [
    {
     "data": {
      "text/plain": [
       "array([[1, 1, 1],\n",
       "       [1, 1, 1]])"
      ]
     },
     "execution_count": 40,
     "metadata": {},
     "output_type": "execute_result"
    }
   ],
   "source": [
    "arc[:] = 1\n",
    "arc"
   ]
  },
  {
   "cell_type": "markdown",
   "id": "939da227",
   "metadata": {},
   "source": [
    "### Elementwise Properties."
   ]
  },
  {
   "cell_type": "code",
   "execution_count": 41,
   "id": "c71b3c43",
   "metadata": {},
   "outputs": [
    {
     "data": {
      "text/plain": [
       "array([[1, 2, 3, 4],\n",
       "       [5, 6, 7, 8]])"
      ]
     },
     "execution_count": 41,
     "metadata": {},
     "output_type": "execute_result"
    }
   ],
   "source": [
    "el = np.array([[1,2,3,4],[5,6,7,8]])\n",
    "el"
   ]
  },
  {
   "cell_type": "code",
   "execution_count": 42,
   "id": "d0e371a7",
   "metadata": {},
   "outputs": [
    {
     "data": {
      "text/plain": [
       "array([[ 3,  4,  5,  6],\n",
       "       [ 7,  8,  9, 10]])"
      ]
     },
     "execution_count": 42,
     "metadata": {},
     "output_type": "execute_result"
    }
   ],
   "source": [
    "el + 2"
   ]
  },
  {
   "cell_type": "code",
   "execution_count": 43,
   "id": "ff938fa4",
   "metadata": {},
   "outputs": [
    {
     "data": {
      "text/plain": [
       "array([[-1,  0,  1,  2],\n",
       "       [ 3,  4,  5,  6]])"
      ]
     },
     "execution_count": 43,
     "metadata": {},
     "output_type": "execute_result"
    }
   ],
   "source": [
    "el - 2"
   ]
  },
  {
   "cell_type": "code",
   "execution_count": 44,
   "id": "ad112545",
   "metadata": {},
   "outputs": [
    {
     "data": {
      "text/plain": [
       "array([[ 2,  4,  6,  8],\n",
       "       [10, 12, 14, 16]])"
      ]
     },
     "execution_count": 44,
     "metadata": {},
     "output_type": "execute_result"
    }
   ],
   "source": [
    "el * 2"
   ]
  },
  {
   "cell_type": "code",
   "execution_count": 45,
   "id": "b424c408",
   "metadata": {},
   "outputs": [
    {
     "data": {
      "text/plain": [
       "array([[0.5, 1. , 1.5, 2. ],\n",
       "       [2.5, 3. , 3.5, 4. ]])"
      ]
     },
     "execution_count": 45,
     "metadata": {},
     "output_type": "execute_result"
    }
   ],
   "source": [
    "el / 2"
   ]
  },
  {
   "cell_type": "code",
   "execution_count": 46,
   "id": "6dbe04f3",
   "metadata": {},
   "outputs": [
    {
     "data": {
      "text/plain": [
       "array([[ 1,  4,  9, 16],\n",
       "       [25, 36, 49, 64]])"
      ]
     },
     "execution_count": 46,
     "metadata": {},
     "output_type": "execute_result"
    }
   ],
   "source": [
    "el ** 2"
   ]
  },
  {
   "cell_type": "code",
   "execution_count": 47,
   "id": "ad3c8958",
   "metadata": {},
   "outputs": [
    {
     "data": {
      "text/plain": [
       "array([[0, 1, 1, 2],\n",
       "       [2, 3, 3, 4]])"
      ]
     },
     "execution_count": 47,
     "metadata": {},
     "output_type": "execute_result"
    }
   ],
   "source": [
    "el // 2"
   ]
  },
  {
   "cell_type": "code",
   "execution_count": 48,
   "id": "f6bc844c",
   "metadata": {},
   "outputs": [
    {
     "data": {
      "text/plain": [
       "(array([[1, 2, 3, 4],\n",
       "        [6, 7, 8, 9]]),\n",
       " array([11, 12, 13, 14]))"
      ]
     },
     "execution_count": 48,
     "metadata": {},
     "output_type": "execute_result"
    }
   ],
   "source": [
    "ela = np.array([[1,2,3,4],[6,7,8,9]])\n",
    "elb = np.array([11,12,13,14])\n",
    "ela,elb"
   ]
  },
  {
   "cell_type": "code",
   "execution_count": 49,
   "id": "1084bd70",
   "metadata": {},
   "outputs": [
    {
     "data": {
      "text/plain": [
       "array([12, 14, 16, 18])"
      ]
     },
     "execution_count": 49,
     "metadata": {},
     "output_type": "execute_result"
    }
   ],
   "source": [
    "ela[0] + elb"
   ]
  },
  {
   "cell_type": "code",
   "execution_count": 50,
   "id": "d2678660",
   "metadata": {},
   "outputs": [
    {
     "data": {
      "text/plain": [
       "array([17, 19, 21, 23])"
      ]
     },
     "execution_count": 50,
     "metadata": {},
     "output_type": "execute_result"
    }
   ],
   "source": [
    "ela[1] + elb"
   ]
  },
  {
   "cell_type": "code",
   "execution_count": 51,
   "id": "737876d4",
   "metadata": {},
   "outputs": [
    {
     "data": {
      "text/plain": [
       "array([[12, 14, 16, 18],\n",
       "       [17, 19, 21, 23]])"
      ]
     },
     "execution_count": 51,
     "metadata": {},
     "output_type": "execute_result"
    }
   ],
   "source": [
    "ela + elb"
   ]
  },
  {
   "cell_type": "code",
   "execution_count": 52,
   "id": "af35dba5",
   "metadata": {},
   "outputs": [
    {
     "data": {
      "text/plain": [
       "array([[10, 10, 10, 10],\n",
       "       [ 5,  5,  5,  5]])"
      ]
     },
     "execution_count": 52,
     "metadata": {},
     "output_type": "execute_result"
    }
   ],
   "source": [
    "elb - ela"
   ]
  },
  {
   "cell_type": "code",
   "execution_count": 53,
   "id": "faee9fd0",
   "metadata": {},
   "outputs": [
    {
     "data": {
      "text/plain": [
       "array([[ 11,  24,  39,  56],\n",
       "       [ 66,  84, 104, 126]])"
      ]
     },
     "execution_count": 53,
     "metadata": {},
     "output_type": "execute_result"
    }
   ],
   "source": [
    "ela * elb"
   ]
  },
  {
   "cell_type": "markdown",
   "id": "393cbbce",
   "metadata": {},
   "source": [
    "### Types of data supported by NumPy"
   ]
  },
  {
   "cell_type": "code",
   "execution_count": 54,
   "id": "49fd79c8",
   "metadata": {},
   "outputs": [
    {
     "data": {
      "text/plain": [
       "array([[1, 2, 3],\n",
       "       [4, 5, 6]])"
      ]
     },
     "execution_count": 54,
     "metadata": {},
     "output_type": "execute_result"
    }
   ],
   "source": [
    "arr = np.array([[1,2,3],[4,5,6]])\n",
    "arr"
   ]
  },
  {
   "cell_type": "code",
   "execution_count": 55,
   "id": "c4c7e098",
   "metadata": {},
   "outputs": [
    {
     "data": {
      "text/plain": [
       "array([[1, 2, 3],\n",
       "       [4, 5, 6]], dtype=uint64)"
      ]
     },
     "execution_count": 55,
     "metadata": {},
     "output_type": "execute_result"
    }
   ],
   "source": [
    "#set data type\n",
    "arr = np.array([[1,2,3],[4,5,6]],dtype = \"uint64\")\n",
    "arr"
   ]
  },
  {
   "cell_type": "code",
   "execution_count": 56,
   "id": "23709bc7",
   "metadata": {},
   "outputs": [
    {
     "data": {
      "text/plain": [
       "array([[1., 2., 3.],\n",
       "       [4., 5., 6.]], dtype=float16)"
      ]
     },
     "execution_count": 56,
     "metadata": {},
     "output_type": "execute_result"
    }
   ],
   "source": [
    "arr = np.array([[1,2,3],[4,5,6]],dtype = np.float16)\n",
    "arr"
   ]
  },
  {
   "cell_type": "code",
   "execution_count": 57,
   "id": "0578f2fd",
   "metadata": {},
   "outputs": [
    {
     "data": {
      "text/plain": [
       "array([[1.+0.j, 2.+0.j, 3.+0.j],\n",
       "       [4.+0.j, 5.+0.j, 6.+0.j]], dtype=complex64)"
      ]
     },
     "execution_count": 57,
     "metadata": {},
     "output_type": "execute_result"
    }
   ],
   "source": [
    "arr = np.array([[1,2,3],[4,5,6]],dtype = np.complex64)\n",
    "arr"
   ]
  },
  {
   "cell_type": "code",
   "execution_count": 58,
   "id": "3396bc66",
   "metadata": {},
   "outputs": [
    {
     "data": {
      "text/plain": [
       "array([[ True,  True,  True],\n",
       "       [ True,  True,  True]])"
      ]
     },
     "execution_count": 58,
     "metadata": {},
     "output_type": "execute_result"
    }
   ],
   "source": [
    "arr = np.array([[1,2,3],[4,5,6]],dtype = np.bool_)\n",
    "arr"
   ]
  },
  {
   "cell_type": "code",
   "execution_count": 59,
   "id": "496a1be8",
   "metadata": {},
   "outputs": [
    {
     "data": {
      "text/plain": [
       "array([['1', '2', '3'],\n",
       "       ['4', '5', '6']], dtype='<U1')"
      ]
     },
     "execution_count": 59,
     "metadata": {},
     "output_type": "execute_result"
    }
   ],
   "source": [
    "arr = np.array([[1,2,3],[4,5,6]],dtype = np.str_)\n",
    "arr"
   ]
  },
  {
   "cell_type": "code",
   "execution_count": 60,
   "id": "443c8294",
   "metadata": {},
   "outputs": [
    {
     "data": {
      "text/plain": [
       "array([['1', '2', '3123123'],\n",
       "       ['4', '5', '6']], dtype='<U7')"
      ]
     },
     "execution_count": 60,
     "metadata": {},
     "output_type": "execute_result"
    }
   ],
   "source": [
    "arr = np.array([[1,2,3123123],[4,5,6]],dtype = np.str_)\n",
    "arr"
   ]
  },
  {
   "cell_type": "markdown",
   "id": "77f12e1a-0e48-4481-bd34-585c1b6cb349",
   "metadata": {
    "jp-MarkdownHeadingCollapsed": true
   },
   "source": [
    "## Characteristics of NumPy Functions"
   ]
  },
  {
   "cell_type": "markdown",
   "id": "53fde6ca",
   "metadata": {},
   "source": [
    "### Universal Functions"
   ]
  },
  {
   "cell_type": "code",
   "execution_count": null,
   "id": "9437b7d7",
   "metadata": {},
   "outputs": [],
   "source": []
  },
  {
   "cell_type": "markdown",
   "id": "36fe6510-46ac-4115-ba11-7da92caefa67",
   "metadata": {},
   "source": [
    "### Broadcasting"
   ]
  },
  {
   "cell_type": "code",
   "execution_count": 61,
   "id": "cb5fb58f-d0f3-4d01-ab84-f648587df66f",
   "metadata": {},
   "outputs": [
    {
     "data": {
      "text/plain": [
       "array([1, 2, 3])"
      ]
     },
     "execution_count": 61,
     "metadata": {},
     "output_type": "execute_result"
    }
   ],
   "source": [
    "array_a = np.array([1,2,3])\n",
    "array_a"
   ]
  },
  {
   "cell_type": "code",
   "execution_count": 62,
   "id": "da2eb8eb-1be5-4fb6-ac18-9a9286979a90",
   "metadata": {},
   "outputs": [
    {
     "data": {
      "text/plain": [
       "array([[1],\n",
       "       [2]])"
      ]
     },
     "execution_count": 62,
     "metadata": {},
     "output_type": "execute_result"
    }
   ],
   "source": [
    "array_b = np.array([[1],[2]])\n",
    "array_b"
   ]
  },
  {
   "cell_type": "code",
   "execution_count": 63,
   "id": "00e97a61-1a40-457d-968d-f8a2f26bcd93",
   "metadata": {},
   "outputs": [
    {
     "data": {
      "text/plain": [
       "array([[1, 2, 3],\n",
       "       [4, 5, 6]])"
      ]
     },
     "execution_count": 63,
     "metadata": {},
     "output_type": "execute_result"
    }
   ],
   "source": [
    "matrix_c = np.array([[1,2,3],[4,5,6]])\n",
    "matrix_c"
   ]
  },
  {
   "cell_type": "code",
   "execution_count": 64,
   "id": "70ba1473-eec5-4a0b-8601-a4522b9efea2",
   "metadata": {},
   "outputs": [
    {
     "data": {
      "text/plain": [
       "array([[2, 4, 6],\n",
       "       [5, 7, 9]])"
      ]
     },
     "execution_count": 64,
     "metadata": {},
     "output_type": "execute_result"
    }
   ],
   "source": [
    "np.add(array_a,matrix_c)"
   ]
  },
  {
   "cell_type": "code",
   "execution_count": 65,
   "id": "16f08c4e-98b8-4e88-88e0-72a77f285f28",
   "metadata": {},
   "outputs": [
    {
     "data": {
      "text/plain": [
       "array([[2, 3, 4],\n",
       "       [6, 7, 8]])"
      ]
     },
     "execution_count": 65,
     "metadata": {},
     "output_type": "execute_result"
    }
   ],
   "source": [
    "np.add(array_b,matrix_c)"
   ]
  },
  {
   "cell_type": "markdown",
   "id": "defcef87-0afa-419a-9965-b5290fbd0ab4",
   "metadata": {},
   "source": [
    "### Type casting"
   ]
  },
  {
   "cell_type": "code",
   "execution_count": 66,
   "id": "e9b01a4f-2642-48db-b157-8990ab027a64",
   "metadata": {},
   "outputs": [
    {
     "data": {
      "text/plain": [
       "array([[2., 4., 6.],\n",
       "       [5., 7., 9.]])"
      ]
     },
     "execution_count": 66,
     "metadata": {},
     "output_type": "execute_result"
    }
   ],
   "source": [
    "np.add(array_a,matrix_c,dtype = np.float64)"
   ]
  },
  {
   "cell_type": "markdown",
   "id": "ec4b585c-bbcb-4d56-8db2-74ae486db775",
   "metadata": {},
   "source": [
    "### Running over an Axis"
   ]
  },
  {
   "cell_type": "code",
   "execution_count": 67,
   "id": "069694c6-1132-48ed-9a98-509dfc5f14ff",
   "metadata": {},
   "outputs": [
    {
     "data": {
      "text/plain": [
       "array([2.5, 3.5, 4.5])"
      ]
     },
     "execution_count": 67,
     "metadata": {},
     "output_type": "execute_result"
    }
   ],
   "source": [
    "np.mean(matrix_c,axis = 0)"
   ]
  },
  {
   "cell_type": "code",
   "execution_count": 68,
   "id": "e14f209d-6479-4fd2-a63b-d7c02c696718",
   "metadata": {},
   "outputs": [
    {
     "data": {
      "text/plain": [
       "array([[1, 2, 3],\n",
       "       [4, 5, 6]])"
      ]
     },
     "execution_count": 68,
     "metadata": {},
     "output_type": "execute_result"
    }
   ],
   "source": [
    "matrix_c"
   ]
  },
  {
   "cell_type": "code",
   "execution_count": 69,
   "id": "6fbc6735-0f3d-4a81-a120-a6efcded6189",
   "metadata": {},
   "outputs": [
    {
     "data": {
      "text/plain": [
       "array([2., 5.])"
      ]
     },
     "execution_count": 69,
     "metadata": {},
     "output_type": "execute_result"
    }
   ],
   "source": [
    "np.mean(matrix_c,axis = 1)"
   ]
  },
  {
   "cell_type": "markdown",
   "id": "60ecd8a7-f88b-4bad-a323-5097b8d8b2c9",
   "metadata": {
    "jp-MarkdownHeadingCollapsed": true
   },
   "source": [
    "## Working with Arrays"
   ]
  },
  {
   "cell_type": "code",
   "execution_count": 70,
   "id": "375af9f1-c593-40c6-854b-924d6cbe5ea0",
   "metadata": {},
   "outputs": [
    {
     "data": {
      "text/plain": [
       "array([[1, 2, 3],\n",
       "       [4, 5, 6]])"
      ]
     },
     "execution_count": 70,
     "metadata": {},
     "output_type": "execute_result"
    }
   ],
   "source": [
    "matrix_a = np.array([[1,2,3],[4,5,6]])\n",
    "matrix_a"
   ]
  },
  {
   "cell_type": "markdown",
   "id": "74591e8d-d2da-4d7f-9769-51817e4ecd82",
   "metadata": {},
   "source": [
    "### Basic slicing"
   ]
  },
  {
   "cell_type": "code",
   "execution_count": 71,
   "id": "0c1cd42a-0e68-49f4-9728-35708d721637",
   "metadata": {},
   "outputs": [
    {
     "data": {
      "text/plain": [
       "array([[1, 2, 3],\n",
       "       [4, 5, 6]])"
      ]
     },
     "execution_count": 71,
     "metadata": {},
     "output_type": "execute_result"
    }
   ],
   "source": [
    "matrix_a[:]"
   ]
  },
  {
   "cell_type": "code",
   "execution_count": 72,
   "id": "c363b374-a464-4b91-953f-d2ae7c6228c1",
   "metadata": {},
   "outputs": [
    {
     "data": {
      "text/plain": [
       "array([[1, 2, 3]])"
      ]
     },
     "execution_count": 72,
     "metadata": {},
     "output_type": "execute_result"
    }
   ],
   "source": [
    "matrix_a[0:1]"
   ]
  },
  {
   "cell_type": "code",
   "execution_count": 73,
   "id": "143a75bf-166b-4de8-b694-ad1cb93de5ab",
   "metadata": {},
   "outputs": [
    {
     "data": {
      "text/plain": [
       "array([[1, 2, 3],\n",
       "       [4, 5, 6]])"
      ]
     },
     "execution_count": 73,
     "metadata": {},
     "output_type": "execute_result"
    }
   ],
   "source": [
    "matrix_a[0:2]"
   ]
  },
  {
   "cell_type": "code",
   "execution_count": 74,
   "id": "7b7fa861-bd82-4375-9958-5bdc67def71b",
   "metadata": {},
   "outputs": [
    {
     "data": {
      "text/plain": [
       "array([[2, 3],\n",
       "       [5, 6]])"
      ]
     },
     "execution_count": 74,
     "metadata": {},
     "output_type": "execute_result"
    }
   ],
   "source": [
    "matrix_a[:,1:]"
   ]
  },
  {
   "cell_type": "markdown",
   "id": "32827a78-1924-4859-b45f-809c39dda446",
   "metadata": {},
   "source": [
    "### Stepwise Slicing"
   ]
  },
  {
   "cell_type": "code",
   "execution_count": 75,
   "id": "947eeb7b-96b9-439b-8f5c-4630561d5a73",
   "metadata": {},
   "outputs": [
    {
     "data": {
      "text/plain": [
       "array([[1, 2, 3, 4, 5, 0],\n",
       "       [8, 7, 6, 1, 2, 7],\n",
       "       [9, 6, 7, 8, 5, 5]])"
      ]
     },
     "execution_count": 75,
     "metadata": {},
     "output_type": "execute_result"
    }
   ],
   "source": [
    "mb = np.array([[1,2,3,4,5,0],[8,7,6,1,2,7],[9,6,7,8,5,5]])\n",
    "mb"
   ]
  },
  {
   "cell_type": "code",
   "execution_count": 76,
   "id": "ffde5b1a-b4cb-4def-aca0-0f80c055127b",
   "metadata": {},
   "outputs": [
    {
     "data": {
      "text/plain": [
       "array([[1, 2, 3, 4, 5, 0],\n",
       "       [8, 7, 6, 1, 2, 7],\n",
       "       [9, 6, 7, 8, 5, 5]])"
      ]
     },
     "execution_count": 76,
     "metadata": {},
     "output_type": "execute_result"
    }
   ],
   "source": [
    "mb[::,::]"
   ]
  },
  {
   "cell_type": "code",
   "execution_count": 77,
   "id": "63c2b4a5-859c-4f45-aa11-06c8de4f3af3",
   "metadata": {},
   "outputs": [
    {
     "data": {
      "text/plain": [
       "array([[1, 2, 3, 4, 5, 0],\n",
       "       [9, 6, 7, 8, 5, 5]])"
      ]
     },
     "execution_count": 77,
     "metadata": {},
     "output_type": "execute_result"
    }
   ],
   "source": [
    "mb[::2,::]"
   ]
  },
  {
   "cell_type": "code",
   "execution_count": 78,
   "id": "47f6fc15-6622-4968-91b2-021f94909733",
   "metadata": {},
   "outputs": [
    {
     "data": {
      "text/plain": [
       "array([[1, 3, 5],\n",
       "       [9, 7, 5]])"
      ]
     },
     "execution_count": 78,
     "metadata": {},
     "output_type": "execute_result"
    }
   ],
   "source": [
    "mb[::2,::2]\n"
   ]
  },
  {
   "cell_type": "markdown",
   "id": "399e18a2-92a0-4112-873e-8bcfc0826edc",
   "metadata": {},
   "source": [
    "### Dimensions and the squeeze function"
   ]
  },
  {
   "cell_type": "code",
   "execution_count": 79,
   "id": "bdfedc7e-833b-4b62-a509-07a6f980b914",
   "metadata": {},
   "outputs": [
    {
     "data": {
      "text/plain": [
       "array([[1, 2, 3, 4, 5],\n",
       "       [5, 4, 5, 7, 8],\n",
       "       [9, 8, 3, 4, 5]])"
      ]
     },
     "execution_count": 79,
     "metadata": {},
     "output_type": "execute_result"
    }
   ],
   "source": [
    "matrix = np.array([[1,2,3,4,5],[5,4,5,7,8],[9,8,3,4,5]])\n",
    "matrix"
   ]
  },
  {
   "cell_type": "code",
   "execution_count": 80,
   "id": "78695f8a-cdba-4bcb-bada-27b6391f6234",
   "metadata": {},
   "outputs": [
    {
     "data": {
      "text/plain": [
       "numpy.int64"
      ]
     },
     "execution_count": 80,
     "metadata": {},
     "output_type": "execute_result"
    }
   ],
   "source": [
    "type(matrix[0,0])"
   ]
  },
  {
   "cell_type": "code",
   "execution_count": 81,
   "id": "2abb2e25-4b9e-4ae4-a43f-f7e52d6cfbc7",
   "metadata": {},
   "outputs": [
    {
     "data": {
      "text/plain": [
       "1"
      ]
     },
     "execution_count": 81,
     "metadata": {},
     "output_type": "execute_result"
    }
   ],
   "source": [
    "matrix[0,0]"
   ]
  },
  {
   "cell_type": "code",
   "execution_count": 82,
   "id": "6fef3cc2-9a8c-4c24-b627-a8173319454f",
   "metadata": {},
   "outputs": [
    {
     "data": {
      "text/plain": [
       "numpy.ndarray"
      ]
     },
     "execution_count": 82,
     "metadata": {},
     "output_type": "execute_result"
    }
   ],
   "source": [
    "type(matrix[0,0:1])"
   ]
  },
  {
   "cell_type": "code",
   "execution_count": 83,
   "id": "91cbfd50-4737-48ac-95b4-fd734123ff59",
   "metadata": {},
   "outputs": [
    {
     "data": {
      "text/plain": [
       "array([[1]])"
      ]
     },
     "execution_count": 83,
     "metadata": {},
     "output_type": "execute_result"
    }
   ],
   "source": [
    "matrix[0:1,0:1]"
   ]
  },
  {
   "cell_type": "code",
   "execution_count": 84,
   "id": "4145e34f-3901-4cd0-9162-0ac14d3ce289",
   "metadata": {},
   "outputs": [
    {
     "name": "stdout",
     "output_type": "stream",
     "text": [
      "()\n",
      "(1,)\n",
      "(1, 1)\n"
     ]
    }
   ],
   "source": [
    "print(matrix[0,0].shape)\n",
    "print(matrix[0,0:1].shape)\n",
    "print(matrix[0:1,0:1].shape)"
   ]
  },
  {
   "cell_type": "code",
   "execution_count": 85,
   "id": "3b888e2a-981d-4995-9465-83353fb7cbd3",
   "metadata": {},
   "outputs": [
    {
     "data": {
      "text/plain": [
       "array(1)"
      ]
     },
     "execution_count": 85,
     "metadata": {},
     "output_type": "execute_result"
    }
   ],
   "source": [
    "matrix[0:1,0:1].squeeze()"
   ]
  },
  {
   "cell_type": "code",
   "execution_count": 86,
   "id": "37de3967-0187-4cbd-b441-f0be6ba92445",
   "metadata": {},
   "outputs": [
    {
     "data": {
      "text/plain": [
       "()"
      ]
     },
     "execution_count": 86,
     "metadata": {},
     "output_type": "execute_result"
    }
   ],
   "source": [
    "matrix[0:1,0:1].squeeze().shape"
   ]
  },
  {
   "cell_type": "markdown",
   "id": "5c525718-6c2c-49b8-a750-aa70aa2cd602",
   "metadata": {
    "jp-MarkdownHeadingCollapsed": true
   },
   "source": [
    "## Empty Arrays, Arrays of identical Values"
   ]
  },
  {
   "cell_type": "markdown",
   "id": "c3791bf6-0938-4b66-ae09-4e1722b05974",
   "metadata": {
    "jp-MarkdownHeadingCollapsed": true
   },
   "source": [
    "### np.empty(),np.zero(),np.ones(),np.full()"
   ]
  },
  {
   "cell_type": "code",
   "execution_count": 87,
   "id": "3c8409bb-8c53-40ab-b68b-955aae2ee349",
   "metadata": {},
   "outputs": [
    {
     "data": {
      "text/plain": [
       "array([[1.66828498e-316, 0.00000000e+000, 1.66907707e-316],\n",
       "       [6.20718786e-159, 6.92544887e-310, 1.66912371e-316],\n",
       "       [1.19719497e-046, 6.92544875e-310, 3.95252517e-322]])"
      ]
     },
     "execution_count": 87,
     "metadata": {},
     "output_type": "execute_result"
    }
   ],
   "source": [
    "empty = np.empty((3,3))\n",
    "empty"
   ]
  },
  {
   "cell_type": "code",
   "execution_count": 88,
   "id": "b22bb4c1-55a6-4871-9185-d4117082a626",
   "metadata": {},
   "outputs": [
    {
     "data": {
      "text/plain": [
       "array([[0., 0., 0., 0., 0.],\n",
       "       [0., 0., 0., 0., 0.],\n",
       "       [0., 0., 0., 0., 0.],\n",
       "       [0., 0., 0., 0., 0.],\n",
       "       [0., 0., 0., 0., 0.]], dtype=float32)"
      ]
     },
     "execution_count": 88,
     "metadata": {},
     "output_type": "execute_result"
    }
   ],
   "source": [
    "zero = np.zeros((5,5),np.float32)\n",
    "zero"
   ]
  },
  {
   "cell_type": "code",
   "execution_count": 89,
   "id": "db9336e1-3375-41e2-908c-e0033f82d2bb",
   "metadata": {},
   "outputs": [
    {
     "data": {
      "text/plain": [
       "array([[1, 1, 1, 1],\n",
       "       [1, 1, 1, 1],\n",
       "       [1, 1, 1, 1],\n",
       "       [1, 1, 1, 1]])"
      ]
     },
     "execution_count": 89,
     "metadata": {},
     "output_type": "execute_result"
    }
   ],
   "source": [
    "ones = np.ones((4,4), np.int64)\n",
    "ones"
   ]
  },
  {
   "cell_type": "code",
   "execution_count": 90,
   "id": "3f7a4896-c50d-41c2-a702-acb167c77c90",
   "metadata": {},
   "outputs": [
    {
     "data": {
      "text/plain": [
       "array([['Muhamad', 'Muhamad', 'Muhamad'],\n",
       "       ['Muhamad', 'Muhamad', 'Muhamad'],\n",
       "       ['Muhamad', 'Muhamad', 'Muhamad']], dtype='<U7')"
      ]
     },
     "execution_count": 90,
     "metadata": {},
     "output_type": "execute_result"
    }
   ],
   "source": [
    "full = np.full((3,3),\"Muhamad\")\n",
    "full"
   ]
  },
  {
   "cell_type": "markdown",
   "id": "a62511ad-51f3-4a2e-8d2c-d24276e140b2",
   "metadata": {
    "jp-MarkdownHeadingCollapsed": true
   },
   "source": [
    "### _Like function"
   ]
  },
  {
   "cell_type": "code",
   "execution_count": 91,
   "id": "85617a80-8a84-4856-a16d-9d39d6404f07",
   "metadata": {},
   "outputs": [
    {
     "data": {
      "text/plain": [
       "array([[ 1,  2,  3,  4,  5],\n",
       "       [ 6,  7,  8,  9, 10],\n",
       "       [11, 12, 13, 14, 15]])"
      ]
     },
     "execution_count": 91,
     "metadata": {},
     "output_type": "execute_result"
    }
   ],
   "source": [
    "matrix = np.array([[1,2,3,4,5],[6,7,8,9,10],[11,12,13,14,15]])\n",
    "matrix"
   ]
  },
  {
   "cell_type": "code",
   "execution_count": 92,
   "id": "f9a11cf4-9429-4f1c-9f29-9983ec43c860",
   "metadata": {},
   "outputs": [
    {
     "data": {
      "text/plain": [
       "array([[41538832,        0,        0,        0,        0],\n",
       "       [       0,        0,        0,        0,        0],\n",
       "       [       0,        0,        0,        0,        0]])"
      ]
     },
     "execution_count": 92,
     "metadata": {},
     "output_type": "execute_result"
    }
   ],
   "source": [
    "empty_like = np.empty_like(matrix)\n",
    "empty_like"
   ]
  },
  {
   "cell_type": "code",
   "execution_count": 93,
   "id": "53dcc497-a0ac-4369-88d9-52c345628a1d",
   "metadata": {},
   "outputs": [
    {
     "data": {
      "text/plain": [
       "array([[0, 0, 0, 0, 0],\n",
       "       [0, 0, 0, 0, 0],\n",
       "       [0, 0, 0, 0, 0]])"
      ]
     },
     "execution_count": 93,
     "metadata": {},
     "output_type": "execute_result"
    }
   ],
   "source": [
    "zero_like = np.zeros_like(matrix)\n",
    "zero_like"
   ]
  },
  {
   "cell_type": "code",
   "execution_count": 94,
   "id": "4c77a1da-655d-4850-8857-edfafe5c2593",
   "metadata": {},
   "outputs": [
    {
     "data": {
      "text/plain": [
       "array([[1, 1, 1, 1, 1],\n",
       "       [1, 1, 1, 1, 1],\n",
       "       [1, 1, 1, 1, 1]])"
      ]
     },
     "execution_count": 94,
     "metadata": {},
     "output_type": "execute_result"
    }
   ],
   "source": [
    "ones_like = np.ones_like(matrix)\n",
    "ones_like"
   ]
  },
  {
   "cell_type": "code",
   "execution_count": 95,
   "id": "695633f9-7a95-4833-9482-caed2ff28197",
   "metadata": {},
   "outputs": [
    {
     "data": {
      "text/plain": [
       "array([[5, 5, 5, 5, 5],\n",
       "       [5, 5, 5, 5, 5],\n",
       "       [5, 5, 5, 5, 5]])"
      ]
     },
     "execution_count": 95,
     "metadata": {},
     "output_type": "execute_result"
    }
   ],
   "source": [
    "full_like = np.full_like(matrix,5)\n",
    "full_like"
   ]
  },
  {
   "cell_type": "markdown",
   "id": "8044c79b-98e2-42c9-bde9-8ea660d74b86",
   "metadata": {
    "jp-MarkdownHeadingCollapsed": true
   },
   "source": [
    "### np.arange()\n",
    "`aray range`"
   ]
  },
  {
   "cell_type": "code",
   "execution_count": 96,
   "id": "c91c3266-7c83-4b3d-bce5-85abc3a75005",
   "metadata": {},
   "outputs": [
    {
     "data": {
      "text/plain": [
       "array([0, 1, 2, 3, 4, 5, 6, 7, 8, 9])"
      ]
     },
     "execution_count": 96,
     "metadata": {},
     "output_type": "execute_result"
    }
   ],
   "source": [
    "arange = np.arange(10)\n",
    "arange"
   ]
  },
  {
   "cell_type": "code",
   "execution_count": 97,
   "id": "a9503497-c367-4ee2-baba-e5ec28e62615",
   "metadata": {},
   "outputs": [
    {
     "data": {
      "text/plain": [
       "array([ 5,  6,  7,  8,  9, 10, 11, 12, 13, 14])"
      ]
     },
     "execution_count": 97,
     "metadata": {},
     "output_type": "execute_result"
    }
   ],
   "source": [
    "arange = np.arange(5,15)\n",
    "arange"
   ]
  },
  {
   "cell_type": "code",
   "execution_count": 98,
   "id": "67ddc860-fe1f-4ddb-8eeb-580c61eaed03",
   "metadata": {},
   "outputs": [
    {
     "data": {
      "text/plain": [
       "array([ 5. ,  7.5, 10. , 12.5, 15. , 17.5])"
      ]
     },
     "execution_count": 98,
     "metadata": {},
     "output_type": "execute_result"
    }
   ],
   "source": [
    "arange = np.arange(5,20,2.5)\n",
    "arange"
   ]
  },
  {
   "cell_type": "code",
   "execution_count": 99,
   "id": "af51960a-1d21-4403-bb22-9c8a15946899",
   "metadata": {},
   "outputs": [
    {
     "data": {
      "text/plain": [
       "array([ 3.,  5.,  7.,  9., 11., 13., 15., 17., 19., 21., 23., 25., 27.,\n",
       "       29.])"
      ]
     },
     "execution_count": 99,
     "metadata": {},
     "output_type": "execute_result"
    }
   ],
   "source": [
    "arange = np.arange(3,30,2,dtype = np.float64)\n",
    "arange"
   ]
  },
  {
   "cell_type": "code",
   "execution_count": 100,
   "id": "1f7af74d-16db-49af-b46c-563d88611352",
   "metadata": {},
   "outputs": [
    {
     "data": {
      "text/plain": [
       "array([ 3,  5,  7,  9, 11, 13, 15, 17, 19, 21, 23])"
      ]
     },
     "execution_count": 100,
     "metadata": {},
     "output_type": "execute_result"
    }
   ],
   "source": [
    "arange = np.arange(3,30,2.5,dtype = np.int64)\n",
    "arange"
   ]
  },
  {
   "cell_type": "markdown",
   "id": "6de67e9a-154f-4ab9-81a5-4b81a446344d",
   "metadata": {},
   "source": [
    "### Ramdom number"
   ]
  },
  {
   "cell_type": "code",
   "execution_count": 101,
   "id": "92b7fd66-0792-47c4-b07e-e61140d2b7cb",
   "metadata": {},
   "outputs": [],
   "source": [
    "from numpy.random import Generator as gen\n",
    "from numpy.random import PCG64 as pcg"
   ]
  },
  {
   "cell_type": "code",
   "execution_count": 102,
   "id": "4152c980-e3ff-4a38-98f8-bbf206ccf6a7",
   "metadata": {},
   "outputs": [
    {
     "data": {
      "text/plain": [
       "0.8888106140140547"
      ]
     },
     "execution_count": 102,
     "metadata": {},
     "output_type": "execute_result"
    }
   ],
   "source": [
    "rg = gen(pcg())\n",
    "rg.normal()"
   ]
  },
  {
   "cell_type": "code",
   "execution_count": 103,
   "id": "3bede5dc-52f6-41d4-9a1c-69ecc1f072d3",
   "metadata": {},
   "outputs": [
    {
     "data": {
      "text/plain": [
       "array([ 0.35060632, -0.51200835,  0.3519242 , -0.72798093, -0.65891809])"
      ]
     },
     "execution_count": 103,
     "metadata": {},
     "output_type": "execute_result"
    }
   ],
   "source": [
    "rg.normal(size = 5)"
   ]
  },
  {
   "cell_type": "code",
   "execution_count": 104,
   "id": "41bb59f0-9dce-4092-aff9-2ce6c3ecfec5",
   "metadata": {},
   "outputs": [
    {
     "data": {
      "text/plain": [
       "array([[ 0.53348489, -0.68734899,  0.31511117,  0.61582415, -0.81871272],\n",
       "       [-0.0043131 , -1.54358454,  0.40864553,  0.03235258,  1.41149489],\n",
       "       [-0.55067794, -0.1528636 , -0.87298511,  1.92705674,  1.01214075],\n",
       "       [-0.09268291,  1.73217917, -1.40745554,  0.29665166, -0.44132156],\n",
       "       [-0.9688383 , -1.2504463 , -0.42133971,  0.01808354, -0.11178227]])"
      ]
     },
     "execution_count": 104,
     "metadata": {},
     "output_type": "execute_result"
    }
   ],
   "source": [
    "rg.normal(size = (5,5))"
   ]
  },
  {
   "cell_type": "code",
   "execution_count": 105,
   "id": "0d99b1ec-5156-4227-8c5e-aa87aa9ce220",
   "metadata": {},
   "outputs": [
    {
     "data": {
      "text/plain": [
       "-0.13640898920107863"
      ]
     },
     "execution_count": 105,
     "metadata": {},
     "output_type": "execute_result"
    }
   ],
   "source": [
    "rg = gen(pcg(seed = 365))\n",
    "rg.normal()"
   ]
  },
  {
   "cell_type": "code",
   "execution_count": 106,
   "id": "10922f61-c7b7-43de-854b-fb683a90918d",
   "metadata": {},
   "outputs": [
    {
     "data": {
      "text/plain": [
       "array([[ 0.09414431, -0.06300442,  1.05391641, -0.6866818 , -0.50922173],\n",
       "       [-0.7999526 ,  0.73041825,  0.08825439, -2.1177576 ,  0.65526774],\n",
       "       [-0.48095012, -0.5519114 , -0.58578662, -0.98257896,  1.12378166],\n",
       "       [-1.30984316, -0.04703774,  0.955272  ,  0.26071745, -0.20023668],\n",
       "       [-1.50172484, -1.4929163 ,  0.96535084,  1.18694633, -0.76065577]])"
      ]
     },
     "execution_count": 106,
     "metadata": {},
     "output_type": "execute_result"
    }
   ],
   "source": [
    "rg.normal(size = (5,5))"
   ]
  },
  {
   "cell_type": "markdown",
   "id": "3c813698-dda0-4908-9bc0-65418661d858",
   "metadata": {},
   "source": [
    "### Generating integers, probabilities and random choices."
   ]
  },
  {
   "cell_type": "code",
   "execution_count": 107,
   "id": "43b3dc4e-9346-4dff-898b-a8c71107a04d",
   "metadata": {},
   "outputs": [
    {
     "data": {
      "text/plain": [
       "array([[0, 7, 6, 7, 8],\n",
       "       [6, 6, 2, 0, 6],\n",
       "       [3, 0, 3, 7, 9],\n",
       "       [1, 1, 8, 7, 4],\n",
       "       [4, 8, 6, 4, 9]])"
      ]
     },
     "execution_count": 107,
     "metadata": {},
     "output_type": "execute_result"
    }
   ],
   "source": [
    "rg = gen(pcg(seed = 365))\n",
    "rg.integers(10,size=(5,5))"
   ]
  },
  {
   "cell_type": "code",
   "execution_count": 108,
   "id": "74005ff2-c59e-4a39-b0c0-9e872ba2c8a2",
   "metadata": {},
   "outputs": [
    {
     "data": {
      "text/plain": [
       "array([[ 8, 40, 36,  9, 21],\n",
       "       [11, 18, 23, 27, 37],\n",
       "       [26, 15, 33, 21, 29],\n",
       "       [ 7, 34, 14,  6, 29],\n",
       "       [37, 37, 43, 18, 12]])"
      ]
     },
     "execution_count": 108,
     "metadata": {},
     "output_type": "execute_result"
    }
   ],
   "source": [
    "rg.integers(low = 5,high = 50, size=(5,5))"
   ]
  },
  {
   "cell_type": "code",
   "execution_count": 109,
   "id": "41694f47-eec3-462f-bcf2-2056b722c4df",
   "metadata": {},
   "outputs": [
    {
     "data": {
      "text/plain": [
       "array([[0.72989385, 0.31220331, 0.4966964 , 0.62633289, 0.25432223],\n",
       "       [0.27184357, 0.58527261, 0.47582808, 0.31213978, 0.86326571],\n",
       "       [0.69308801, 0.03810334, 0.7685183 , 0.35663042, 0.10106293],\n",
       "       [0.84993589, 0.33190844, 0.20269642, 0.33520176, 0.98973619],\n",
       "       [0.64291474, 0.32662863, 0.61190909, 0.35667588, 0.04772906]])"
      ]
     },
     "execution_count": 109,
     "metadata": {},
     "output_type": "execute_result"
    }
   ],
   "source": [
    "rg.random(size = (5,5))"
   ]
  },
  {
   "cell_type": "code",
   "execution_count": 110,
   "id": "ca5bc1b4-0ce5-461b-9677-636ba23cf34e",
   "metadata": {},
   "outputs": [
    {
     "data": {
      "text/plain": [
       "array([[2, 1, 3, 2, 3],\n",
       "       [4, 1, 1, 4, 1],\n",
       "       [4, 1, 2, 1, 1],\n",
       "       [4, 1, 3, 1, 4],\n",
       "       [2, 3, 3, 4, 1]])"
      ]
     },
     "execution_count": 110,
     "metadata": {},
     "output_type": "execute_result"
    }
   ],
   "source": [
    "rg.choice([4,3,2,1],size = (5,5))"
   ]
  },
  {
   "cell_type": "markdown",
   "id": "8a68df42-5da0-4d4f-ae90-6ed6977de019",
   "metadata": {},
   "source": [
    "### Generating arrays from known distrubutins"
   ]
  },
  {
   "cell_type": "code",
   "execution_count": 111,
   "id": "5b307c0b-ecc3-4224-b28b-848c8c268a67",
   "metadata": {},
   "outputs": [
    {
     "data": {
      "text/plain": [
       "array([[2, 0, 1, 1, 2],\n",
       "       [1, 1, 0, 1, 1],\n",
       "       [1, 2, 1, 1, 0],\n",
       "       [0, 1, 0, 2, 1],\n",
       "       [0, 1, 0, 0, 2]])"
      ]
     },
     "execution_count": 111,
     "metadata": {},
     "output_type": "execute_result"
    }
   ],
   "source": [
    "rg = gen(pcg(seed = 365))\n",
    "rg.poisson(size = (5,5))"
   ]
  },
  {
   "cell_type": "code",
   "execution_count": 112,
   "id": "5661b538-6c31-492d-ac9e-cb9d9d5b5855",
   "metadata": {},
   "outputs": [
    {
     "data": {
      "text/plain": [
       "array([[11, 12, 12, 14, 13],\n",
       "       [ 9, 10, 11, 11,  8],\n",
       "       [11,  8, 10,  9, 14],\n",
       "       [ 7,  8,  9, 15, 15],\n",
       "       [13,  8,  8,  7,  9]])"
      ]
     },
     "execution_count": 112,
     "metadata": {},
     "output_type": "execute_result"
    }
   ],
   "source": [
    "rg = gen(pcg(seed = 365))\n",
    "rg.poisson(lam = 10,size = (5,5))"
   ]
  },
  {
   "cell_type": "code",
   "execution_count": 113,
   "id": "9c87463f-02e1-46b5-acfa-93b53b30e97d",
   "metadata": {},
   "outputs": [
    {
     "data": {
      "text/plain": [
       "array([[42, 44, 30, 36, 45],\n",
       "       [36, 41, 38, 42, 41],\n",
       "       [35, 31, 35, 46, 29],\n",
       "       [41, 41, 46, 34, 48],\n",
       "       [45, 45, 45, 40, 43]])"
      ]
     },
     "execution_count": 113,
     "metadata": {},
     "output_type": "execute_result"
    }
   ],
   "source": [
    "rg = gen(pcg(seed = 365))\n",
    "rg.binomial(n= 100,p=0.4,size = (5,5))"
   ]
  },
  {
   "cell_type": "code",
   "execution_count": 114,
   "id": "133b4864-6d3c-4216-8451-8b9944c52242",
   "metadata": {},
   "outputs": [
    {
     "data": {
      "text/plain": [
       "array([[10.37767822, 10.42451863,  9.63404367,  7.36153427,  9.82286787],\n",
       "       [ 5.81223125, 10.09354231,  6.46790532, 11.38740256,  8.97147918],\n",
       "       [10.85844698,  8.79081317,  5.962079  ,  9.99560681,  8.34539118],\n",
       "       [ 7.97105522,  8.9981544 ,  8.93530194,  9.6253307 ,  9.23850869],\n",
       "       [ 9.73729284,  5.3090678 , 10.13723528, 11.04372782,  7.11078651]])"
      ]
     },
     "execution_count": 114,
     "metadata": {},
     "output_type": "execute_result"
    }
   ],
   "source": [
    "rg = gen(pcg(seed = 365))\n",
    "rg.logistic(loc=9,scale=1.2 ,size = (5,5))"
   ]
  },
  {
   "cell_type": "markdown",
   "id": "659b960e-34de-401c-b066-f8c01b3c62d7",
   "metadata": {},
   "source": [
    "### Applications of randoms generators."
   ]
  },
  {
   "cell_type": "code",
   "execution_count": 115,
   "id": "ea89080c-6776-4168-93ba-462f447a3e7d",
   "metadata": {},
   "outputs": [],
   "source": [
    "rg = gen(pcg(seed = 365))\n",
    "a1 =rg.normal(loc=2,scale = 3,size = (1000))\n",
    "a2 =rg.normal(loc=7,scale = 2,size = (1000))\n",
    "a3 =rg.logistic(loc=11,scale = 3,size = (1000))\n",
    "a4 =rg.exponential(scale = 4,size = (1000))\n",
    "a5 =rg.geometric(p=0.7,size = (1000))"
   ]
  },
  {
   "cell_type": "code",
   "execution_count": 116,
   "id": "3490011a-d32b-4c28-8ce9-360b770cc979",
   "metadata": {},
   "outputs": [
    {
     "data": {
      "text/plain": [
       "array([[ 1.59077303,  2.28243293,  1.81098674, ...,  0.1973629 ,\n",
       "        -2.21015722,  2.91161235],\n",
       "       [ 6.42174295,  8.57902322,  5.17270135, ...,  4.3465854 ,\n",
       "         8.2176402 ,  7.90337695],\n",
       "       [10.14698427, 15.93309953, -0.46878789, ...,  2.66485989,\n",
       "        12.69328115, 11.79840961],\n",
       "       [ 6.91500737,  6.243605  ,  2.44997251, ...,  0.80935387,\n",
       "         0.50644607,  4.86816939],\n",
       "       [ 1.        ,  1.        ,  1.        , ...,  1.        ,\n",
       "         2.        ,  1.        ]])"
      ]
     },
     "execution_count": 116,
     "metadata": {},
     "output_type": "execute_result"
    }
   ],
   "source": [
    "random_test_data = np.array([a1,a2,a3,a4,a5])\n",
    "random_test_data"
   ]
  },
  {
   "cell_type": "code",
   "execution_count": 117,
   "id": "05cf89b3-8ddc-4bfd-a9c1-8d4e59f73eb8",
   "metadata": {},
   "outputs": [
    {
     "data": {
      "text/plain": [
       "array([[ 1.59077303,  6.42174295, 10.14698427,  6.91500737,  1.        ],\n",
       "       [ 2.28243293,  8.57902322, 15.93309953,  6.243605  ,  1.        ],\n",
       "       [ 1.81098674,  5.17270135, -0.46878789,  2.44997251,  1.        ],\n",
       "       ...,\n",
       "       [ 0.1973629 ,  4.3465854 ,  2.66485989,  0.80935387,  1.        ],\n",
       "       [-2.21015722,  8.2176402 , 12.69328115,  0.50644607,  2.        ],\n",
       "       [ 2.91161235,  7.90337695, 11.79840961,  4.86816939,  1.        ]])"
      ]
     },
     "execution_count": 117,
     "metadata": {},
     "output_type": "execute_result"
    }
   ],
   "source": [
    "random_test_data.transpose()"
   ]
  },
  {
   "cell_type": "code",
   "execution_count": 118,
   "id": "3b0dd388-b82b-4113-a280-b57f4d5a9905",
   "metadata": {},
   "outputs": [
    {
     "data": {
      "text/plain": [
       "(5, 1000)"
      ]
     },
     "execution_count": 118,
     "metadata": {},
     "output_type": "execute_result"
    }
   ],
   "source": [
    "random_test_data.shape"
   ]
  },
  {
   "cell_type": "code",
   "execution_count": 119,
   "id": "29083eeb-42b6-44fb-b2ed-71f8d1441000",
   "metadata": {},
   "outputs": [],
   "source": [
    "np.savetxt(\"Random-data-from-Numpy.csv\",random_test_data.transpose(),fmt=\"%s\",delimiter=',')"
   ]
  },
  {
   "cell_type": "code",
   "execution_count": 120,
   "id": "004b6ee9-7df8-43fd-be2a-f6ec1ac9ea06",
   "metadata": {},
   "outputs": [
    {
     "data": {
      "text/plain": [
       "array([[ 1.59077303,  6.42174295, 10.14698427,  6.91500737,  1.        ],\n",
       "       [ 2.28243293,  8.57902322, 15.93309953,  6.243605  ,  1.        ],\n",
       "       [ 1.81098674,  5.17270135, -0.46878789,  2.44997251,  1.        ],\n",
       "       ...,\n",
       "       [ 0.1973629 ,  4.3465854 ,  2.66485989,  0.80935387,  1.        ],\n",
       "       [-2.21015722,  8.2176402 , 12.69328115,  0.50644607,  2.        ],\n",
       "       [ 2.91161235,  7.90337695, 11.79840961,  4.86816939,  1.        ]])"
      ]
     },
     "execution_count": 120,
     "metadata": {},
     "output_type": "execute_result"
    }
   ],
   "source": [
    " np.genfromtxt(\"Random-data-from-Numpy.csv\",delimiter=',')"
   ]
  },
  {
   "cell_type": "markdown",
   "id": "3febab8b-6279-41de-899b-8324206f912b",
   "metadata": {},
   "source": [
    "## Importing data with numpy"
   ]
  },
  {
   "cell_type": "markdown",
   "id": "a70e3546-611a-49b2-85d4-048ad5a53b34",
   "metadata": {},
   "source": [
    "### np.loadtxt() and np.genfromtxt()"
   ]
  },
  {
   "cell_type": "code",
   "execution_count": 121,
   "id": "854d74fd-f58d-45b3-8292-e7399226669d",
   "metadata": {},
   "outputs": [
    {
     "data": {
      "text/plain": [
       "array([[ 2000.,    40.,   365.,  3121.,  4241., 13621.],\n",
       "       [ 2000.,    40.,   365.,  3061.,  4171., 15041.],\n",
       "       [ 1000.,    40.,   365.,  2160.,  3280., 15340.],\n",
       "       ...,\n",
       "       [ 2000.,    40.,   365.,  4201.,  5001., 16600.],\n",
       "       [ 1000.,    40.,   365.,  2080.,  3320., 15600.],\n",
       "       [ 2000.,    40.,   365.,  4601.,  4601., 16600.]])"
      ]
     },
     "execution_count": 121,
     "metadata": {},
     "output_type": "execute_result"
    }
   ],
   "source": [
    "lending_co_data_numeric_1 = np.loadtxt(\"1.1 Lending-Company-Numeric-Data.csv\",delimiter = ',')\n",
    "lending_co_data_numeric_1"
   ]
  },
  {
   "cell_type": "code",
   "execution_count": 122,
   "id": "a146c87e-07c7-487d-aa1c-4b9531b76cc9",
   "metadata": {},
   "outputs": [
    {
     "data": {
      "text/plain": [
       "array([[ 2000.,    40.,   365.,  3121.,  4241., 13621.],\n",
       "       [ 2000.,    40.,   365.,  3061.,  4171., 15041.],\n",
       "       [ 1000.,    40.,   365.,  2160.,  3280., 15340.],\n",
       "       ...,\n",
       "       [ 2000.,    40.,   365.,  4201.,  5001., 16600.],\n",
       "       [ 1000.,    40.,   365.,  2080.,  3320., 15600.],\n",
       "       [ 2000.,    40.,   365.,  4601.,  4601., 16600.]])"
      ]
     },
     "execution_count": 122,
     "metadata": {},
     "output_type": "execute_result"
    }
   ],
   "source": [
    "lending_co_data_numeric_2 = np.genfromtxt(\"1.1 Lending-Company-Numeric-Data.csv\",delimiter =',')\n",
    "lending_co_data_numeric_2"
   ]
  },
  {
   "cell_type": "code",
   "execution_count": 123,
   "id": "327295f1-f157-49e9-80ea-8033e59d4428",
   "metadata": {},
   "outputs": [
    {
     "data": {
      "text/plain": [
       "True"
      ]
     },
     "execution_count": 123,
     "metadata": {},
     "output_type": "execute_result"
    }
   ],
   "source": [
    "np.array_equal(lending_co_data_numeric_1,lending_co_data_numeric_2)"
   ]
  },
  {
   "cell_type": "code",
   "execution_count": 124,
   "id": "4398293f-dfba-4980-aed1-020f7b5788d6",
   "metadata": {},
   "outputs": [
    {
     "data": {
      "text/plain": [
       "array([[ 2000.,    40.,   365.,  3121.,  4241., 13621.],\n",
       "       [ 2000.,    40.,   365.,  3061.,  4171., 15041.],\n",
       "       [ 1000.,    40.,   365.,  2160.,  3280., 15340.],\n",
       "       ...,\n",
       "       [   nan,    40.,   365.,  4201.,  5001., 16600.],\n",
       "       [ 1000.,    40.,   365.,  2080.,  3320., 15600.],\n",
       "       [ 2000.,    40.,   365.,  4601.,  4601., 16600.]])"
      ]
     },
     "execution_count": 124,
     "metadata": {},
     "output_type": "execute_result"
    }
   ],
   "source": [
    "lending_co_data_numeric_NAN = np.genfromtxt(\"1.3 Lending-Company-Numeric-Data-NAN.csv\",delimiter = ';')\n",
    "lending_co_data_numeric_NAN"
   ]
  },
  {
   "cell_type": "code",
   "execution_count": 125,
   "id": "df521567-9ec6-4f78-a434-7ea63a044930",
   "metadata": {},
   "outputs": [
    {
     "data": {
      "text/plain": [
       "array([b'2000;40;365;3121;4241;13621', b'2000;40;365;3061;4171;15041',\n",
       "       b'1000;40;365;2160;3280;15340', ..., b';40;365;4201;5001;16600',\n",
       "       b'1000;40;365;2080;3320;15600', b'2000;40;365;4601;4601;16600'],\n",
       "      dtype='|S30')"
      ]
     },
     "execution_count": 125,
     "metadata": {},
     "output_type": "execute_result"
    }
   ],
   "source": [
    "lending_co_data_numeric_NAN_2 = np.loadtxt(\"1.3 Lending-Company-Numeric-Data-NAN.csv\",delimiter =':', dtype=np.character)\n",
    "lending_co_data_numeric_NAN_2"
   ]
  },
  {
   "cell_type": "code",
   "execution_count": 126,
   "id": "a8c4cbad-b473-4321-80a0-567aa6289093",
   "metadata": {},
   "outputs": [
    {
     "data": {
      "text/plain": [
       "b'2000;40;365;3121;4241;136212000;40;365;3061;4171;15041'"
      ]
     },
     "execution_count": 126,
     "metadata": {},
     "output_type": "execute_result"
    }
   ],
   "source": [
    "lending_co_data_numeric_NAN_2[0] + lending_co_data_numeric_NAN_2[1]"
   ]
  },
  {
   "cell_type": "markdown",
   "id": "4c2c8f40-e047-4e8c-aba6-36c15827f93e",
   "metadata": {},
   "source": [
    "### Partial cleaning while importing"
   ]
  },
  {
   "cell_type": "code",
   "execution_count": 127,
   "id": "76517f0d-a4c5-4d0e-a29c-c228efbc8612",
   "metadata": {},
   "outputs": [
    {
     "data": {
      "text/plain": [
       "array([[ 2000.,    40.,   365.,  3121.,  4241., 13621.],\n",
       "       [ 2000.,    40.,   365.,  3061.,  4171., 15041.],\n",
       "       [ 1000.,    40.,   365.,  2160.,  3280., 15340.],\n",
       "       ...,\n",
       "       [   nan,    40.,   365.,  4201.,  5001., 16600.],\n",
       "       [ 1000.,    40.,   365.,  2080.,  3320., 15600.],\n",
       "       [ 2000.,    40.,   365.,  4601.,  4601., 16600.]])"
      ]
     },
     "execution_count": 127,
     "metadata": {},
     "output_type": "execute_result"
    }
   ],
   "source": [
    "lending = np.genfromtxt(\"1.3 Lending-Company-Numeric-Data-NAN.csv\",delimiter =';')\n",
    "lending"
   ]
  },
  {
   "cell_type": "code",
   "execution_count": 128,
   "id": "8be3c0ea-8b8e-4e6b-a230-9069e9d6afbe",
   "metadata": {},
   "outputs": [
    {
     "data": {
      "text/plain": [
       "array([[ 1000.,    40.,   365.,  2160.,  3280., 15340.],\n",
       "       [ 2000.,    40.,   365.,  3041.,  4241., 15321.],\n",
       "       [ 2000.,    50.,   365.,  3470.,  4820., 13720.],\n",
       "       ...,\n",
       "       [   nan,    40.,   365.,  4201.,  5001., 16600.],\n",
       "       [ 1000.,    40.,   365.,  2080.,  3320., 15600.],\n",
       "       [ 2000.,    40.,   365.,  4601.,  4601., 16600.]])"
      ]
     },
     "execution_count": 128,
     "metadata": {},
     "output_type": "execute_result"
    }
   ],
   "source": [
    "lending = np.genfromtxt(\"1.3 Lending-Company-Numeric-Data-NAN.csv\",\n",
    "                        delimiter = \";\",\n",
    "                        skip_header = 2)\n",
    "lending"
   ]
  },
  {
   "cell_type": "code",
   "execution_count": 129,
   "id": "93149d0c-c948-4453-802b-b927723e0b22",
   "metadata": {},
   "outputs": [
    {
     "data": {
      "text/plain": [
       "array([[ 2000.,    40.,   365.,  3121.,  4241., 13621.],\n",
       "       [ 2000.,    40.,   365.,  3061.,  4171., 15041.],\n",
       "       [ 1000.,    40.,   365.,  2160.,  3280., 15340.],\n",
       "       ...,\n",
       "       [ 2000.,    40.,   365.,  3401.,    nan, 16600.],\n",
       "       [ 2000.,    40.,   365.,    nan,  5440., 16600.],\n",
       "       [   nan,    40.,   365.,  4201.,  5001., 16600.]])"
      ]
     },
     "execution_count": 129,
     "metadata": {},
     "output_type": "execute_result"
    }
   ],
   "source": [
    "lending = np.genfromtxt(\"1.3 Lending-Company-Numeric-Data-NAN.csv\",\n",
    "                        delimiter = \";\",\n",
    "                        skip_footer = 2)\n",
    "lending"
   ]
  },
  {
   "cell_type": "code",
   "execution_count": 130,
   "id": "b668b329-ce2d-4648-bffb-f9ad20b5c3eb",
   "metadata": {},
   "outputs": [
    {
     "data": {
      "text/plain": [
       "array([[ 2000.,    40., 13621.],\n",
       "       [ 2000.,    40., 15041.],\n",
       "       [ 1000.,    40., 15340.],\n",
       "       ...,\n",
       "       [   nan,    40., 16600.],\n",
       "       [ 1000.,    40., 15600.],\n",
       "       [ 2000.,    40., 16600.]])"
      ]
     },
     "execution_count": 130,
     "metadata": {},
     "output_type": "execute_result"
    }
   ],
   "source": [
    "lending = np.genfromtxt(\"1.3 Lending-Company-Numeric-Data-NAN.csv\",\n",
    "                        delimiter = \";\",\n",
    "                        usecols = (0,1,5))\n",
    "lending"
   ]
  },
  {
   "cell_type": "code",
   "execution_count": 131,
   "id": "6ce0be4d-7c60-414e-9e22-13f9b9e292dd",
   "metadata": {},
   "outputs": [
    {
     "data": {
      "text/plain": [
       "array([[2000.,   40.,  365.],\n",
       "       [2000.,   40.,  365.],\n",
       "       [1000.,   40.,  365.],\n",
       "       ...,\n",
       "       [  nan,   40.,  365.],\n",
       "       [1000.,   40.,  365.],\n",
       "       [2000.,   40.,  365.]])"
      ]
     },
     "execution_count": 131,
     "metadata": {},
     "output_type": "execute_result"
    }
   ],
   "source": [
    "lending = np.genfromtxt(\"1.3 Lending-Company-Numeric-Data-NAN.csv\",\n",
    "                        delimiter = \";\",\n",
    "                        usecols = (0,1,2))\n",
    "lending"
   ]
  },
  {
   "cell_type": "code",
   "execution_count": 132,
   "id": "95553c9d-32b9-4e86-b05c-66459316c817",
   "metadata": {},
   "outputs": [
    {
     "data": {
      "text/plain": [
       "array([[1000.,   40.,  365.],\n",
       "       [2000.,   40.,  365.],\n",
       "       [2000.,   50.,  365.],\n",
       "       ...,\n",
       "       [2000.,   40.,  365.],\n",
       "       [2000.,   40.,  365.],\n",
       "       [  nan,   40.,  365.]])"
      ]
     },
     "execution_count": 132,
     "metadata": {},
     "output_type": "execute_result"
    }
   ],
   "source": [
    "lending = np.genfromtxt(\"1.3 Lending-Company-Numeric-Data-NAN.csv\",\n",
    "                        delimiter = \";\",\n",
    "                        usecols = (0,1,2),\n",
    "                        skip_header = 2,\n",
    "                        skip_footer = 2)\n",
    "lending"
   ]
  },
  {
   "cell_type": "code",
   "execution_count": 133,
   "id": "a7c9013c-17c6-420d-9418-2a6339f254f8",
   "metadata": {},
   "outputs": [
    {
     "data": {
      "text/plain": [
       "(array([1000., 2000., 2000., ..., 2000., 2000.,   nan]),\n",
       " array([40., 40., 50., ..., 40., 40., 40.]),\n",
       " array([365., 365., 365., ..., 365., 365., 365.]))"
      ]
     },
     "execution_count": 133,
     "metadata": {},
     "output_type": "execute_result"
    }
   ],
   "source": [
    "lending1,lending2,lending3 = np.genfromtxt(\"1.3 Lending-Company-Numeric-Data-NAN.csv\",\n",
    "                        delimiter = \";\",\n",
    "                        usecols = (0,1,2),\n",
    "                        skip_header = 2,\n",
    "                        skip_footer = 2,\n",
    "                        unpack = True)\n",
    "lending1,lending2,lending3"
   ]
  },
  {
   "cell_type": "markdown",
   "id": "f40779be-97f1-4afd-b2ad-7cd35667ff8d",
   "metadata": {},
   "source": [
    "### String / Object / Numbers"
   ]
  },
  {
   "cell_type": "code",
   "execution_count": 134,
   "id": "d38f10fe-d6f3-4a56-ab1d-cc22f697486f",
   "metadata": {},
   "outputs": [
    {
     "data": {
      "text/plain": [
       "array([[      nan,       nan,       nan, ...,       nan,       nan,\n",
       "              nan],\n",
       "       [1.000e+00,       nan,       nan, ...,       nan,       nan,\n",
       "        1.660e+04],\n",
       "       [2.000e+00,       nan,       nan, ...,       nan,       nan,\n",
       "        1.660e+04],\n",
       "       ...,\n",
       "       [1.041e+03,       nan,       nan, ...,       nan,       nan,\n",
       "        1.660e+04],\n",
       "       [1.042e+03,       nan,       nan, ...,       nan,       nan,\n",
       "        1.560e+04],\n",
       "       [1.043e+03,       nan,       nan, ...,       nan,       nan,\n",
       "        1.660e+04]])"
      ]
     },
     "execution_count": 134,
     "metadata": {},
     "output_type": "execute_result"
    }
   ],
   "source": [
    "ld_co = np.genfromtxt(\"3.1 lending-co-LT.csv\",delimiter=\",\")\n",
    "ld_co"
   ]
  },
  {
   "cell_type": "code",
   "execution_count": 135,
   "id": "a13cff9a-95e7-4c56-a9b8-ed99bae10c01",
   "metadata": {},
   "outputs": [
    {
     "name": "stdout",
     "output_type": "stream",
     "text": [
      "[[      nan       nan       nan ...       nan       nan       nan]\n",
      " [1.000e+00       nan       nan ...       nan       nan 1.660e+04]\n",
      " [2.000e+00       nan       nan ...       nan       nan 1.660e+04]\n",
      " ...\n",
      " [1.041e+03       nan       nan ...       nan       nan 1.660e+04]\n",
      " [1.042e+03       nan       nan ...       nan       nan 1.560e+04]\n",
      " [1.043e+03       nan       nan ...       nan       nan 1.660e+04]]\n"
     ]
    }
   ],
   "source": [
    "print(ld_co)"
   ]
  },
  {
   "cell_type": "code",
   "execution_count": 136,
   "id": "2de9a2d5-b5c7-48c0-bed8-9ff8de02bdac",
   "metadata": {},
   "outputs": [
    {
     "data": {
      "text/plain": [
       "array([[   -1,    -1,    -1, ...,    -1,    -1,    -1],\n",
       "       [    1,    -1,    -1, ...,    -1,    -1, 16600],\n",
       "       [    2,    -1,    -1, ...,    -1,    -1, 16600],\n",
       "       ...,\n",
       "       [ 1041,    -1,    -1, ...,    -1,    -1, 16600],\n",
       "       [ 1042,    -1,    -1, ...,    -1,    -1, 15600],\n",
       "       [ 1043,    -1,    -1, ...,    -1,    -1, 16600]], dtype=int32)"
      ]
     },
     "execution_count": 136,
     "metadata": {},
     "output_type": "execute_result"
    }
   ],
   "source": [
    "ld_co = np.genfromtxt(\"3.1 lending-co-LT.csv\",delimiter=\",\",dtype = np.int32)\n",
    "ld_co"
   ]
  },
  {
   "cell_type": "code",
   "execution_count": 137,
   "id": "6a855157-a66b-407b-82d9-a08787ddd690",
   "metadata": {},
   "outputs": [
    {
     "name": "stdout",
     "output_type": "stream",
     "text": [
      "[['LoanID' 'StringID' 'Product' ... 'Location' 'Region' 'TotalPrice']\n",
      " ['1' 'id_1' 'Product B' ... 'Location 2' 'Region 2' '16600.0']\n",
      " ['2' 'id_2' 'Product B' ... 'Location 3' '' '16600.0']\n",
      " ...\n",
      " ['1041' 'id_1041' 'Product B' ... 'Location 23' 'Region 4' '16600.0']\n",
      " ['1042' 'id_1042' 'Product C' ... 'Location 52' 'Region 6' '15600.0']\n",
      " ['1043' 'id_1043' 'Product B' ... 'Location 142' 'Region 6' '16600.0']]\n"
     ]
    }
   ],
   "source": [
    "ld_co = np.genfromtxt(\"3.1 lending-co-LT.csv\",delimiter=\",\",dtype = np.str_)\n",
    "print(ld_co)"
   ]
  },
  {
   "cell_type": "code",
   "execution_count": 138,
   "id": "e2af2d5f-7c4a-4043-ade8-239126b87b6d",
   "metadata": {},
   "outputs": [
    {
     "name": "stdout",
     "output_type": "stream",
     "text": [
      "[[b'LoanID' b'StringID' b'Product' ... b'Location' b'Region'\n",
      "  b'TotalPrice']\n",
      " [b'1' b'id_1' b'Product B' ... b'Location 2' b'Region 2' b'16600.0']\n",
      " [b'2' b'id_2' b'Product B' ... b'Location 3' b'' b'16600.0']\n",
      " ...\n",
      " [b'1041' b'id_1041' b'Product B' ... b'Location 23' b'Region 4'\n",
      "  b'16600.0']\n",
      " [b'1042' b'id_1042' b'Product C' ... b'Location 52' b'Region 6'\n",
      "  b'15600.0']\n",
      " [b'1043' b'id_1043' b'Product B' ... b'Location 142' b'Region 6'\n",
      "  b'16600.0']]\n"
     ]
    }
   ],
   "source": [
    "ld_co = np.genfromtxt(\"3.1 lending-co-LT.csv\",delimiter=\",\",dtype = np.object_)\n",
    "print(ld_co)"
   ]
  },
  {
   "cell_type": "code",
   "execution_count": 139,
   "id": "4c6d7482-3b3e-4158-ae86-df03eeeafe1f",
   "metadata": {},
   "outputs": [
    {
     "name": "stdout",
     "output_type": "stream",
     "text": [
      "[(  -1, '', '', '', '', '', -1) (   1, '', '', '', '', '', -1)\n",
      " (   2, '', '', '', '', '', -1) ... (1041, '', '', '', '', '', -1)\n",
      " (1042, '', '', '', '', '', -1) (1043, '', '', '', '', '', -1)]\n"
     ]
    }
   ],
   "source": [
    "ld_co = np.genfromtxt(\"3.1 lending-co-LT.csv\",delimiter=\",\",dtype = (np.int64,np.str_,np.str_,np.str_,np.str_,np.str_,np.int64))\n",
    "print(ld_co)"
   ]
  },
  {
   "cell_type": "markdown",
   "id": "92f7039c-802f-4880-b52c-3227c19af117",
   "metadata": {},
   "source": [
    "### np.save()"
   ]
  },
  {
   "cell_type": "code",
   "execution_count": 140,
   "id": "bcf2366d-5a58-4fa1-a4f4-af27fdc6d6ea",
   "metadata": {},
   "outputs": [
    {
     "data": {
      "text/plain": [
       "array([['LoanID', 'StringID', 'Product', ..., 'Location', 'Region',\n",
       "        'TotalPrice'],\n",
       "       ['1', 'id_1', 'Product B', ..., 'Location 2', 'Region 2',\n",
       "        '16600.0'],\n",
       "       ['2', 'id_2', 'Product B', ..., 'Location 3', '', '16600.0'],\n",
       "       ...,\n",
       "       ['1041', 'id_1041', 'Product B', ..., 'Location 23', 'Region 4',\n",
       "        '16600.0'],\n",
       "       ['1042', 'id_1042', 'Product C', ..., 'Location 52', 'Region 6',\n",
       "        '15600.0'],\n",
       "       ['1043', 'id_1043', 'Product B', ..., 'Location 142', 'Region 6',\n",
       "        '16600.0']], dtype='<U14')"
      ]
     },
     "execution_count": 140,
     "metadata": {},
     "output_type": "execute_result"
    }
   ],
   "source": [
    "ld = np.genfromtxt(\"5.1 Lending-Company-Saving.csv\",\n",
    "                   delimiter = ',',\n",
    "                   dtype = np.str_)\n",
    "ld"
   ]
  },
  {
   "cell_type": "code",
   "execution_count": 141,
   "id": "af0dec3e-c021-490d-aa24-602b92177fa0",
   "metadata": {},
   "outputs": [],
   "source": [
    "np.save(\"Lending-Saving\",ld)"
   ]
  },
  {
   "cell_type": "code",
   "execution_count": 142,
   "id": "8b0b6ff6-019e-4c86-a161-ca2bddaf2d14",
   "metadata": {},
   "outputs": [],
   "source": [
    "ld_save = np.load(\"Lending-Saving.npy\")"
   ]
  },
  {
   "cell_type": "code",
   "execution_count": 143,
   "id": "8e821233-3ad9-4dd0-953a-d6d5b043a24d",
   "metadata": {},
   "outputs": [
    {
     "data": {
      "text/plain": [
       "array([['LoanID', 'StringID', 'Product', ..., 'Location', 'Region',\n",
       "        'TotalPrice'],\n",
       "       ['1', 'id_1', 'Product B', ..., 'Location 2', 'Region 2',\n",
       "        '16600.0'],\n",
       "       ['2', 'id_2', 'Product B', ..., 'Location 3', '', '16600.0'],\n",
       "       ...,\n",
       "       ['1041', 'id_1041', 'Product B', ..., 'Location 23', 'Region 4',\n",
       "        '16600.0'],\n",
       "       ['1042', 'id_1042', 'Product C', ..., 'Location 52', 'Region 6',\n",
       "        '15600.0'],\n",
       "       ['1043', 'id_1043', 'Product B', ..., 'Location 142', 'Region 6',\n",
       "        '16600.0']], dtype='<U14')"
      ]
     },
     "execution_count": 143,
     "metadata": {},
     "output_type": "execute_result"
    }
   ],
   "source": [
    "ld_save"
   ]
  },
  {
   "cell_type": "code",
   "execution_count": 144,
   "id": "30a12397-5ae8-4590-9f30-cfc075b2c198",
   "metadata": {},
   "outputs": [
    {
     "data": {
      "text/plain": [
       "array([[ True,  True,  True, ...,  True,  True,  True],\n",
       "       [ True,  True,  True, ...,  True,  True,  True],\n",
       "       [ True,  True,  True, ...,  True,  True,  True],\n",
       "       ...,\n",
       "       [ True,  True,  True, ...,  True,  True,  True],\n",
       "       [ True,  True,  True, ...,  True,  True,  True],\n",
       "       [ True,  True,  True, ...,  True,  True,  True]])"
      ]
     },
     "execution_count": 144,
     "metadata": {},
     "output_type": "execute_result"
    }
   ],
   "source": [
    "np.equal(ld_save,ld)"
   ]
  },
  {
   "cell_type": "markdown",
   "id": "681ac241-95cb-4426-ab88-a24263ea46d1",
   "metadata": {},
   "source": [
    "### np.savez()"
   ]
  },
  {
   "cell_type": "code",
   "execution_count": 145,
   "id": "9942916e-d440-4b0f-93d7-f01839c060a0",
   "metadata": {},
   "outputs": [],
   "source": [
    "np.savez(\"Landing-Savez\",ld,ld_save)"
   ]
  },
  {
   "cell_type": "code",
   "execution_count": 146,
   "id": "96c4c794-daa7-4271-a6a0-4e94be52ca37",
   "metadata": {},
   "outputs": [],
   "source": [
    "ld_savez = np.load(\"Landing-Savez.npz\")"
   ]
  },
  {
   "cell_type": "code",
   "execution_count": 147,
   "id": "b01f80a5-e961-4d3e-a883-9538ca65111b",
   "metadata": {},
   "outputs": [
    {
     "data": {
      "text/plain": [
       "array([['LoanID', 'StringID', 'Product', ..., 'Location', 'Region',\n",
       "        'TotalPrice'],\n",
       "       ['1', 'id_1', 'Product B', ..., 'Location 2', 'Region 2',\n",
       "        '16600.0'],\n",
       "       ['2', 'id_2', 'Product B', ..., 'Location 3', '', '16600.0'],\n",
       "       ...,\n",
       "       ['1041', 'id_1041', 'Product B', ..., 'Location 23', 'Region 4',\n",
       "        '16600.0'],\n",
       "       ['1042', 'id_1042', 'Product C', ..., 'Location 52', 'Region 6',\n",
       "        '15600.0'],\n",
       "       ['1043', 'id_1043', 'Product B', ..., 'Location 142', 'Region 6',\n",
       "        '16600.0']], dtype='<U14')"
      ]
     },
     "execution_count": 147,
     "metadata": {},
     "output_type": "execute_result"
    }
   ],
   "source": [
    "ld_savez[\"arr_0\"]"
   ]
  },
  {
   "cell_type": "code",
   "execution_count": 148,
   "id": "b034d9a3-0b7a-431f-a540-8914e7b0b586",
   "metadata": {},
   "outputs": [
    {
     "data": {
      "text/plain": [
       "array([['LoanID', 'StringID', 'Product', ..., 'Location', 'Region',\n",
       "        'TotalPrice'],\n",
       "       ['1', 'id_1', 'Product B', ..., 'Location 2', 'Region 2',\n",
       "        '16600.0'],\n",
       "       ['2', 'id_2', 'Product B', ..., 'Location 3', '', '16600.0'],\n",
       "       ...,\n",
       "       ['1041', 'id_1041', 'Product B', ..., 'Location 23', 'Region 4',\n",
       "        '16600.0'],\n",
       "       ['1042', 'id_1042', 'Product C', ..., 'Location 52', 'Region 6',\n",
       "        '15600.0'],\n",
       "       ['1043', 'id_1043', 'Product B', ..., 'Location 142', 'Region 6',\n",
       "        '16600.0']], dtype='<U14')"
      ]
     },
     "execution_count": 148,
     "metadata": {},
     "output_type": "execute_result"
    }
   ],
   "source": [
    "ld_savez[\"arr_1\"]"
   ]
  },
  {
   "cell_type": "markdown",
   "id": "c00701b1-990c-41ad-842e-0b175f9d2238",
   "metadata": {},
   "source": [
    "### np.savetxt()"
   ]
  },
  {
   "cell_type": "code",
   "execution_count": 149,
   "id": "3ac9baef-ec1c-4a02-8783-248587dd4b78",
   "metadata": {},
   "outputs": [],
   "source": [
    "ld = np.genfromtxt(\"5.1 Lending-Company-Saving.csv\",\n",
    "                   delimiter = \",\",\n",
    "                   dtype = np.str_)"
   ]
  },
  {
   "cell_type": "code",
   "execution_count": 150,
   "id": "25305e12-fd56-4bc0-917c-85a39fed34ec",
   "metadata": {},
   "outputs": [],
   "source": [
    "np.savetxt(\"Lending-Save.txt\",\n",
    "           ld,\n",
    "           fmt = \"%s\",\n",
    "           delimiter =\",\")"
   ]
  },
  {
   "cell_type": "code",
   "execution_count": 151,
   "id": "db312e63-0032-4da4-a763-d7d287a37e03",
   "metadata": {},
   "outputs": [
    {
     "data": {
      "text/plain": [
       "array([['LoanID', 'StringID', 'Product', ..., 'Location', 'Region',\n",
       "        'TotalPrice'],\n",
       "       ['1', 'id_1', 'Product B', ..., 'Location 2', 'Region 2',\n",
       "        '16600.0'],\n",
       "       ['2', 'id_2', 'Product B', ..., 'Location 3', '', '16600.0'],\n",
       "       ...,\n",
       "       ['1041', 'id_1041', 'Product B', ..., 'Location 23', 'Region 4',\n",
       "        '16600.0'],\n",
       "       ['1042', 'id_1042', 'Product C', ..., 'Location 52', 'Region 6',\n",
       "        '15600.0'],\n",
       "       ['1043', 'id_1043', 'Product B', ..., 'Location 142', 'Region 6',\n",
       "        '16600.0']], dtype='<U14')"
      ]
     },
     "execution_count": 151,
     "metadata": {},
     "output_type": "execute_result"
    }
   ],
   "source": [
    "ld_txt = np.genfromtxt(\"Lending-Save.txt\",\n",
    "                       delimiter = ',',\n",
    "                       dtype = np.str_)\n",
    "ld_txt"
   ]
  },
  {
   "cell_type": "code",
   "execution_count": 152,
   "id": "78f9b123-59b6-4150-8486-fe9cc953df7a",
   "metadata": {},
   "outputs": [
    {
     "data": {
      "text/plain": [
       "array([['LoanID', 'StringID', 'Product', ..., 'Location', 'Region',\n",
       "        'TotalPrice'],\n",
       "       ['1', 'id_1', 'Product B', ..., 'Location 2', 'Region 2',\n",
       "        '16600.0'],\n",
       "       ['2', 'id_2', 'Product B', ..., 'Location 3', '', '16600.0'],\n",
       "       ...,\n",
       "       ['1041', 'id_1041', 'Product B', ..., 'Location 23', 'Region 4',\n",
       "        '16600.0'],\n",
       "       ['1042', 'id_1042', 'Product C', ..., 'Location 52', 'Region 6',\n",
       "        '15600.0'],\n",
       "       ['1043', 'id_1043', 'Product B', ..., 'Location 142', 'Region 6',\n",
       "        '16600.0']], dtype='<U14')"
      ]
     },
     "execution_count": 152,
     "metadata": {},
     "output_type": "execute_result"
    }
   ],
   "source": [
    "ld_npy = np.load(\"Lending-Saving.npy\")\n",
    "ld_npy"
   ]
  },
  {
   "cell_type": "code",
   "execution_count": 153,
   "id": "ed1412d7-3c8d-43f8-9633-2d2dcb7db8e5",
   "metadata": {},
   "outputs": [
    {
     "data": {
      "text/plain": [
       "True"
      ]
     },
     "execution_count": 153,
     "metadata": {},
     "output_type": "execute_result"
    }
   ],
   "source": [
    "np.array_equal(ld_txt,ld_npy)"
   ]
  },
  {
   "cell_type": "markdown",
   "id": "1ba1d101-d130-4ac4-b31b-dc5880e88a58",
   "metadata": {},
   "source": [
    "## Statistics with NumPy"
   ]
  },
  {
   "cell_type": "markdown",
   "id": "14fdc59f-b396-4b8c-a824-6c90db5bf14f",
   "metadata": {},
   "source": [
    "### np.mean()"
   ]
  },
  {
   "cell_type": "code",
   "execution_count": 154,
   "id": "243dd6d5-2f26-457a-9378-bbbae92cb60b",
   "metadata": {},
   "outputs": [
    {
     "data": {
      "text/plain": [
       "array([[3, 1, 9, 9, 2],\n",
       "       [4, 5, 2, 1, 3],\n",
       "       [9, 6, 3, 1, 7]])"
      ]
     },
     "execution_count": 154,
     "metadata": {},
     "output_type": "execute_result"
    }
   ],
   "source": [
    "mtx_A = np.array([[3,1,9,9,2],[4,5,2,1,3],[9,6,3,1,7]])\n",
    "mtx_A"
   ]
  },
  {
   "cell_type": "code",
   "execution_count": 155,
   "id": "2e3d6282-a0ed-4500-b316-b6b5f96f0823",
   "metadata": {},
   "outputs": [
    {
     "data": {
      "text/plain": [
       "4.333333333333333"
      ]
     },
     "execution_count": 155,
     "metadata": {},
     "output_type": "execute_result"
    }
   ],
   "source": [
    "np.mean(mtx_A)"
   ]
  },
  {
   "cell_type": "code",
   "execution_count": 156,
   "id": "f37b7c6e-8cb8-4eb2-8a93-108468b413e6",
   "metadata": {},
   "outputs": [
    {
     "data": {
      "text/plain": [
       "(4.8, 3.0, 5.2)"
      ]
     },
     "execution_count": 156,
     "metadata": {},
     "output_type": "execute_result"
    }
   ],
   "source": [
    "np.mean(mtx_A[0]),np.mean(mtx_A[1]),np.mean(mtx_A[2])"
   ]
  },
  {
   "cell_type": "code",
   "execution_count": 157,
   "id": "7b0ed4bb-1c91-4d78-99c7-a47d11d022a9",
   "metadata": {},
   "outputs": [
    {
     "data": {
      "text/plain": [
       "(5.333333333333333, 4.0, 4.666666666666667)"
      ]
     },
     "execution_count": 157,
     "metadata": {},
     "output_type": "execute_result"
    }
   ],
   "source": [
    "np.mean(mtx_A[:,0]),np.mean(mtx_A[:,1]),np.mean(mtx_A[:,2])"
   ]
  },
  {
   "cell_type": "code",
   "execution_count": 158,
   "id": "b95297e4-5113-4345-b509-603ac5e0c852",
   "metadata": {},
   "outputs": [
    {
     "data": {
      "text/plain": [
       "(array([5.33333333, 4.        , 4.66666667, 3.66666667, 4.        ]),\n",
       " array([4.8, 3. , 5.2]))"
      ]
     },
     "execution_count": 158,
     "metadata": {},
     "output_type": "execute_result"
    }
   ],
   "source": [
    "np.mean(mtx_A,axis= 0),np.mean(mtx_A,axis= 1)"
   ]
  },
  {
   "cell_type": "code",
   "execution_count": 159,
   "id": "3119c0fc-b4f0-4e05-a674-e6ccb3443491",
   "metadata": {},
   "outputs": [
    {
     "data": {
      "text/plain": [
       "4.333333333333333"
      ]
     },
     "execution_count": 159,
     "metadata": {},
     "output_type": "execute_result"
    }
   ],
   "source": [
    "mtx_A.mean()"
   ]
  },
  {
   "cell_type": "code",
   "execution_count": 160,
   "id": "a586d755-2689-4ca4-ab87-fefb300b3bc9",
   "metadata": {},
   "outputs": [
    {
     "data": {
      "text/plain": [
       "array([[1.73205081, 1.        , 3.        , 3.        , 1.41421356],\n",
       "       [2.        , 2.23606798, 1.41421356, 1.        , 1.73205081],\n",
       "       [3.        , 2.44948974, 1.73205081, 1.        , 2.64575131]])"
      ]
     },
     "execution_count": 160,
     "metadata": {},
     "output_type": "execute_result"
    }
   ],
   "source": [
    "np.sqrt(mtx_A)"
   ]
  },
  {
   "cell_type": "code",
   "execution_count": 161,
   "id": "4f01a5ed-2ef2-4614-bc5b-27a70381528b",
   "metadata": {},
   "outputs": [
    {
     "data": {
      "text/plain": [
       "array([4, 3, 5])"
      ]
     },
     "execution_count": 161,
     "metadata": {},
     "output_type": "execute_result"
    }
   ],
   "source": [
    "np.mean(mtx_A,axis = 1,dtype = np.int64)"
   ]
  },
  {
   "cell_type": "markdown",
   "id": "9303476a-eb58-41c0-95a0-5e3b4f119a05",
   "metadata": {},
   "source": [
    "### Minimun and Maximum values"
   ]
  },
  {
   "cell_type": "code",
   "execution_count": 162,
   "id": "2bef1bde-84cc-4c37-9c3f-a67c4e8d7fb7",
   "metadata": {},
   "outputs": [
    {
     "data": {
      "text/plain": [
       "array([[3, 1, 9, 9, 2],\n",
       "       [4, 5, 2, 0, 3],\n",
       "       [9, 6, 3, 8, 7]])"
      ]
     },
     "execution_count": 162,
     "metadata": {},
     "output_type": "execute_result"
    }
   ],
   "source": [
    "mtx_A = np.array([[3,1,9,9,2],[4,5,2,0,3],[9,6,3,8,7]])\n",
    "mtx_A"
   ]
  },
  {
   "cell_type": "code",
   "execution_count": 163,
   "id": "223c7401-e137-4eaa-b47d-c66d1687e6dd",
   "metadata": {},
   "outputs": [
    {
     "data": {
      "text/plain": [
       "(0, 1, 0, 3)"
      ]
     },
     "execution_count": 163,
     "metadata": {},
     "output_type": "execute_result"
    }
   ],
   "source": [
    "np.min(mtx_A),np.min(mtx_A[0]),np.min(mtx_A[1]),np.min(mtx_A[2]),"
   ]
  },
  {
   "cell_type": "code",
   "execution_count": 164,
   "id": "27f151cb-299e-49fd-83d5-fa30e83da26a",
   "metadata": {},
   "outputs": [
    {
     "data": {
      "text/plain": [
       "(0, 1, 0, 3)"
      ]
     },
     "execution_count": 164,
     "metadata": {},
     "output_type": "execute_result"
    }
   ],
   "source": [
    "np.amin(mtx_A),np.amin(mtx_A[0]),np.amin(mtx_A[1]),np.amin(mtx_A[2]),"
   ]
  },
  {
   "cell_type": "code",
   "execution_count": 165,
   "id": "b770c331-fe11-4124-82a8-a95d837a2ec9",
   "metadata": {},
   "outputs": [
    {
     "data": {
      "text/plain": [
       "array([3, 1, 2, 0, 2])"
      ]
     },
     "execution_count": 165,
     "metadata": {},
     "output_type": "execute_result"
    }
   ],
   "source": [
    "np.minimum(mtx_A[0],mtx_A[1])"
   ]
  },
  {
   "cell_type": "code",
   "execution_count": 166,
   "id": "311ab5df-4d97-490f-964f-0afc20dd8cf8",
   "metadata": {},
   "outputs": [
    {
     "data": {
      "text/plain": [
       "array([3, 1, 2, 0, 2])"
      ]
     },
     "execution_count": 166,
     "metadata": {},
     "output_type": "execute_result"
    }
   ],
   "source": [
    "np.minimum.reduce(mtx_A)"
   ]
  },
  {
   "cell_type": "code",
   "execution_count": 167,
   "id": "d1b958e8-e099-4381-913c-bca8a540cc30",
   "metadata": {},
   "outputs": [
    {
     "data": {
      "text/plain": [
       "9"
      ]
     },
     "execution_count": 167,
     "metadata": {},
     "output_type": "execute_result"
    }
   ],
   "source": [
    "np.max(mtx_A)"
   ]
  },
  {
   "cell_type": "code",
   "execution_count": 168,
   "id": "0c06afc1-50a8-43d5-abdd-2376fb3fcf5c",
   "metadata": {},
   "outputs": [
    {
     "data": {
      "text/plain": [
       "9"
      ]
     },
     "execution_count": 168,
     "metadata": {},
     "output_type": "execute_result"
    }
   ],
   "source": [
    "np.amax(mtx_A)"
   ]
  },
  {
   "cell_type": "markdown",
   "id": "3d84c306-9bb2-4506-b57f-fbf2bda4acbd",
   "metadata": {},
   "source": [
    "### Percentiles and Quantiles"
   ]
  },
  {
   "cell_type": "code",
   "execution_count": 169,
   "id": "d4952bfd-4e7d-4677-8145-5af266b1b62a",
   "metadata": {},
   "outputs": [
    {
     "data": {
      "text/plain": [
       "array([[3, 1, 9, 9, 2],\n",
       "       [4, 5, 2, 0, 3],\n",
       "       [9, 6, 3, 8, 7]])"
      ]
     },
     "execution_count": 169,
     "metadata": {},
     "output_type": "execute_result"
    }
   ],
   "source": [
    "mtx_A = np.array([[3,1,9,9,2],[4,5,2,0,3],[9,6,3,8,7]])\n",
    "mtx_A"
   ]
  },
  {
   "cell_type": "code",
   "execution_count": 170,
   "id": "89133aeb-2ecd-42cd-bd0f-3c5bf3db14b7",
   "metadata": {},
   "outputs": [
    {
     "data": {
      "text/plain": [
       "9"
      ]
     },
     "execution_count": 170,
     "metadata": {},
     "output_type": "execute_result"
    }
   ],
   "source": [
    "np.ptp(mtx_A)"
   ]
  },
  {
   "cell_type": "code",
   "execution_count": 172,
   "id": "ef51146d-f878-40e8-8ca2-7c4b6f783a15",
   "metadata": {},
   "outputs": [
    {
     "data": {
      "text/plain": [
       "(array([6, 5, 7, 9, 5]), array([8, 5, 6]))"
      ]
     },
     "execution_count": 172,
     "metadata": {},
     "output_type": "execute_result"
    }
   ],
   "source": [
    "np.ptp(mtx_A,axis = 0),np.ptp(mtx_A,axis = 1)"
   ]
  },
  {
   "cell_type": "code",
   "execution_count": 174,
   "id": "3b1b92ff-a1d1-49f5-b597-5b0c3e5095b9",
   "metadata": {},
   "outputs": [
    {
     "data": {
      "text/plain": [
       "array([0, 1, 2, 2, 3, 3, 3, 4, 5, 6, 7, 8, 9, 9, 9])"
      ]
     },
     "execution_count": 174,
     "metadata": {},
     "output_type": "execute_result"
    }
   ],
   "source": [
    "np.sort(mtx_A,axis=None)"
   ]
  },
  {
   "cell_type": "code",
   "execution_count": 175,
   "id": "377ce96a-6a82-4c0b-8f99-6f7eedf9087d",
   "metadata": {},
   "outputs": [
    {
     "data": {
      "text/plain": [
       "(6.799999999999999, 5.4, 2.0)"
      ]
     },
     "execution_count": 175,
     "metadata": {},
     "output_type": "execute_result"
    }
   ],
   "source": [
    "np.percentile(mtx_A,70),np.percentile(mtx_A,60),np.percentile(mtx_A,20),"
   ]
  },
  {
   "cell_type": "code",
   "execution_count": 181,
   "id": "84b0c8d9-9f54-4f3b-a670-2acdcb1f64a5",
   "metadata": {},
   "outputs": [
    {
     "data": {
      "text/plain": [
       "(6.5, 7, 6, 7)"
      ]
     },
     "execution_count": 181,
     "metadata": {},
     "output_type": "execute_result"
    }
   ],
   "source": [
    "np.percentile(mtx_A,70,method=\"midpoint\"),np.percentile(mtx_A,70,method=\"higher\"),np.percentile(mtx_A,70,method=\"lower\"),np.percentile(mtx_A,70,method=\"nearest\"),"
   ]
  },
  {
   "cell_type": "code",
   "execution_count": 184,
   "id": "a2e16806-131a-419a-a56b-c325011cce35",
   "metadata": {},
   "outputs": [
    {
     "data": {
      "text/plain": [
       "7"
      ]
     },
     "execution_count": 184,
     "metadata": {},
     "output_type": "execute_result"
    }
   ],
   "source": [
    "np.quantile(mtx_A,0.7,method=\"nearest\")"
   ]
  },
  {
   "cell_type": "code",
   "execution_count": null,
   "id": "44408df9-fdbb-42c3-9245-082819efdac0",
   "metadata": {},
   "outputs": [],
   "source": []
  }
 ],
 "metadata": {
  "kernelspec": {
   "display_name": "Python 3 (ipykernel)",
   "language": "python",
   "name": "python3"
  },
  "language_info": {
   "codemirror_mode": {
    "name": "ipython",
    "version": 3
   },
   "file_extension": ".py",
   "mimetype": "text/x-python",
   "name": "python",
   "nbconvert_exporter": "python",
   "pygments_lexer": "ipython3",
   "version": "3.8.10"
  }
 },
 "nbformat": 4,
 "nbformat_minor": 5
}
